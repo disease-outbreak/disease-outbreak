{
 "cells": [
  {
   "cell_type": "code",
   "execution_count": 1,
   "id": "bd6f32e0",
   "metadata": {},
   "outputs": [],
   "source": [
    "import streamlit as st"
   ]
  },
  {
   "cell_type": "code",
   "execution_count": 3,
   "id": "4633382c",
   "metadata": {
    "scrolled": true
   },
   "outputs": [
    {
     "data": {
      "text/plain": [
       "<function streamlit.runtime.legacy_caching.caching.cache(func: Optional[~F] = None, persist: bool = False, allow_output_mutation: bool = False, show_spinner: bool = True, suppress_st_warning: bool = False, hash_funcs: Optional[Dict[Union[str, Type[Any]], Callable[[Any], Any]]] = None, max_entries: Optional[int] = None, ttl: Optional[float] = None) -> Union[Callable[[~F], ~F], ~F]>"
      ]
     },
     "execution_count": 3,
     "metadata": {},
     "output_type": "execute_result"
    }
   ],
   "source": [
    "st."
   ]
  },
  {
   "cell_type": "code",
   "execution_count": null,
   "id": "1b9187ab",
   "metadata": {},
   "outputs": [],
   "source": []
  }
 ],
 "metadata": {
  "kernelspec": {
   "display_name": "Python 3 (ipykernel)",
   "language": "python",
   "name": "python3"
  },
  "language_info": {
   "codemirror_mode": {
    "name": "ipython",
    "version": 3
   },
   "file_extension": ".py",
   "mimetype": "text/x-python",
   "name": "python",
   "nbconvert_exporter": "python",
   "pygments_lexer": "ipython3",
   "version": "3.10.9"
  }
 },
 "nbformat": 4,
 "nbformat_minor": 5
}
