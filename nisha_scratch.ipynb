{
 "cells": [
  {
   "cell_type": "code",
   "execution_count": 2,
   "id": "f8da70fe-917e-4085-843b-4d090bb05a88",
   "metadata": {},
   "outputs": [],
   "source": [
    "import pandas as pd\n",
    "import os\n",
    "import matplotlib.pyplot as plt\n"
   ]
  },
  {
   "cell_type": "code",
   "execution_count": 10,
   "id": "2db204a0-4e37-48ce-8cb4-c2a09e88df22",
   "metadata": {},
   "outputs": [
    {
     "name": "stdout",
     "output_type": "stream",
     "text": [
      "<class 'pandas.core.frame.DataFrame'>\n",
      "RangeIndex: 41 entries, 0 to 40\n",
      "Columns: 133 entries, itching to prognosis\n",
      "dtypes: int64(132), object(1)\n",
      "memory usage: 42.7+ KB\n"
     ]
    }
   ],
   "source": [
    "df1 = pd.read_csv('disease.csv')\n",
    "df1.info()"
   ]
  },
  {
   "cell_type": "code",
   "execution_count": 11,
   "id": "3ec471eb-8682-41c6-8335-fd34e8d91993",
   "metadata": {},
   "outputs": [
    {
     "name": "stdout",
     "output_type": "stream",
     "text": [
      "<class 'pandas.core.frame.DataFrame'>\n",
      "RangeIndex: 4920 entries, 0 to 4919\n",
      "Columns: 133 entries, itching to prognosis\n",
      "dtypes: int64(132), object(1)\n",
      "memory usage: 5.0+ MB\n"
     ]
    }
   ],
   "source": [
    "df2 = pd.read_csv('Disease2.csv')\n",
    "df2.info()"
   ]
  },
  {
   "cell_type": "code",
   "execution_count": 12,
   "id": "0cd02ea2-6170-4601-b54c-fdba946d05a6",
   "metadata": {},
   "outputs": [
    {
     "data": {
      "text/plain": [
       "itching                 0\n",
       "skin_rash               0\n",
       "nodal_skin_eruptions    0\n",
       "continuous_sneezing     0\n",
       "shivering               0\n",
       "                       ..\n",
       "inflammatory_nails      0\n",
       "blister                 0\n",
       "red_sore_around_nose    0\n",
       "yellow_crust_ooze       0\n",
       "prognosis               0\n",
       "Length: 133, dtype: int64"
      ]
     },
     "execution_count": 12,
     "metadata": {},
     "output_type": "execute_result"
    }
   ],
   "source": [
    "df1.isna().sum()"
   ]
  },
  {
   "cell_type": "code",
   "execution_count": 13,
   "id": "08f87c2a-98d8-4604-9324-3570e7844aad",
   "metadata": {},
   "outputs": [
    {
     "data": {
      "text/plain": [
       "itching                 0\n",
       "skin_rash               0\n",
       "nodal_skin_eruptions    0\n",
       "continuous_sneezing     0\n",
       "shivering               0\n",
       "                       ..\n",
       "inflammatory_nails      0\n",
       "blister                 0\n",
       "red_sore_around_nose    0\n",
       "yellow_crust_ooze       0\n",
       "prognosis               0\n",
       "Length: 133, dtype: int64"
      ]
     },
     "execution_count": 13,
     "metadata": {},
     "output_type": "execute_result"
    }
   ],
   "source": [
    "df2.isna().sum()"
   ]
  },
  {
   "cell_type": "code",
   "execution_count": 15,
   "id": "a298692e-d9d5-4a31-a9d5-c46047c371ec",
   "metadata": {},
   "outputs": [],
   "source": [
    "# duplicate rows in the train data\n",
    "duplicate_rows_train = df2[df2.duplicated()]\n",
    "num_duplicate_rows_train = duplicate_rows_train.shape[0]\n",
    "\n"
   ]
  },
  {
   "cell_type": "code",
   "execution_count": 16,
   "id": "0004e687-fb06-4b93-a49f-d344279203ef",
   "metadata": {},
   "outputs": [
    {
     "data": {
      "text/plain": [
       "4616"
      ]
     },
     "execution_count": 16,
     "metadata": {},
     "output_type": "execute_result"
    }
   ],
   "source": [
    "num_duplicate_rows_train"
   ]
  },
  {
   "cell_type": "code",
   "execution_count": 18,
   "id": "eafb7a9f-1eeb-403a-b193-842c32e53f5b",
   "metadata": {},
   "outputs": [],
   "source": [
    "# for test data \n",
    "duplicate_rows_test = df1[df1.duplicated()]\n",
    "num_duplicate_rows_test = duplicate_rows_test.shape[0]\n"
   ]
  },
  {
   "cell_type": "code",
   "execution_count": 19,
   "id": "f5d5abfb-7ed7-48aa-bc40-28fd89dfda65",
   "metadata": {},
   "outputs": [
    {
     "data": {
      "text/plain": [
       "0"
      ]
     },
     "execution_count": 19,
     "metadata": {},
     "output_type": "execute_result"
    }
   ],
   "source": [
    "num_duplicate_rows_test"
   ]
  },
  {
   "cell_type": "code",
   "execution_count": 29,
   "id": "d70a5f49-8038-4401-86f1-4699a106afc2",
   "metadata": {},
   "outputs": [
    {
     "data": {
      "text/plain": [
       "0"
      ]
     },
     "execution_count": 29,
     "metadata": {},
     "output_type": "execute_result"
    }
   ],
   "source": [
    "num_duplicate_rows_test"
   ]
  },
  {
   "cell_type": "code",
   "execution_count": 20,
   "id": "058ef4fb-b4ad-4f9a-8510-7b918ba14066",
   "metadata": {},
   "outputs": [
    {
     "data": {
      "text/plain": [
       "(4920, 133)"
      ]
     },
     "execution_count": 20,
     "metadata": {},
     "output_type": "execute_result"
    }
   ],
   "source": [
    "df2.shape"
   ]
  },
  {
   "cell_type": "code",
   "execution_count": 26,
   "id": "920ab905-975f-48fb-9766-8faf488a3bb7",
   "metadata": {},
   "outputs": [
    {
     "data": {
      "text/plain": [
       "Index(['itching', 'skin_rash', 'nodal_skin_eruptions', 'continuous_sneezing',\n",
       "       'shivering', 'chills', 'joint_pain', 'stomach_pain', 'acidity',\n",
       "       'ulcers_on_tongue',\n",
       "       ...\n",
       "       'blackheads', 'scurring', 'skin_peeling', 'silver_like_dusting',\n",
       "       'small_dents_in_nails', 'inflammatory_nails', 'blister',\n",
       "       'red_sore_around_nose', 'yellow_crust_ooze', 'prognosis'],\n",
       "      dtype='object', length=133)"
      ]
     },
     "execution_count": 26,
     "metadata": {},
     "output_type": "execute_result"
    }
   ],
   "source": [
    "df2.columns"
   ]
  },
  {
   "cell_type": "code",
   "execution_count": 28,
   "id": "1b585374-81d0-410a-9bd0-29fd7145fe95",
   "metadata": {},
   "outputs": [
    {
     "data": {
      "text/plain": [
       "<bound method IndexOpsMixin.value_counts of 0                              Fungal infection\n",
       "1                              Fungal infection\n",
       "2                              Fungal infection\n",
       "3                              Fungal infection\n",
       "4                              Fungal infection\n",
       "                         ...                   \n",
       "4915    (vertigo) Paroymsal  Positional Vertigo\n",
       "4916                                       Acne\n",
       "4917                    Urinary tract infection\n",
       "4918                                  Psoriasis\n",
       "4919                                   Impetigo\n",
       "Name: prognosis, Length: 4920, dtype: object>"
      ]
     },
     "execution_count": 28,
     "metadata": {},
     "output_type": "execute_result"
    }
   ],
   "source": [
    "df2.prognosis.value_counts"
   ]
  },
  {
   "cell_type": "code",
   "execution_count": 22,
   "id": "408bba8b-f1ca-4118-bacb-f2aab7e80156",
   "metadata": {
    "scrolled": true
   },
   "outputs": [
    {
     "data": {
      "text/plain": [
       "prognosis\n",
       "Fungal infection                           115\n",
       "Gastroenteritis                            115\n",
       "Allergy                                    115\n",
       "Acne                                       115\n",
       "Urinary tract infection                    115\n",
       "Paralysis (brain hemorrhage)               115\n",
       "Heart attack                               115\n",
       "AIDS                                       115\n",
       "Hypertension                               114\n",
       "Dimorphic hemmorhoids(piles)               114\n",
       "Drug Reaction                              114\n",
       "Impetigo                                   114\n",
       "Arthritis                                  114\n",
       "Cervical spondylosis                       114\n",
       "Psoriasis                                  113\n",
       "Bronchial Asthma                           113\n",
       "Peptic ulcer diseae                        113\n",
       "(vertigo) Paroymsal  Positional Vertigo    113\n",
       "Osteoarthristis                            113\n",
       "Hepatitis C                                113\n",
       "GERD                                       113\n",
       "Hypothyroidism                             112\n",
       "Varicose veins                             112\n",
       "Alcoholic hepatitis                        112\n",
       "Chronic cholestasis                        112\n",
       "Malaria                                    112\n",
       "Pneumonia                                  111\n",
       "hepatitis A                                111\n",
       "Diabetes                                   111\n",
       "Jaundice                                   111\n",
       "Common Cold                                111\n",
       "Typhoid                                    111\n",
       "Hepatitis B                                111\n",
       "Hypoglycemia                               111\n",
       "Hyperthyroidism                            111\n",
       "Hepatitis E                                111\n",
       "Tuberculosis                               111\n",
       "Migraine                                   110\n",
       "Chicken pox                                110\n",
       "Dengue                                     110\n",
       "Hepatitis D                                110\n",
       "Name: count, dtype: int64"
      ]
     },
     "execution_count": 22,
     "metadata": {},
     "output_type": "execute_result"
    }
   ],
   "source": [
    "#distribution of the target variable ('prognosis') in the duplicate rows\n",
    "df2_duplicates = duplicate_rows_train['prognosis'].value_counts()\n",
    "df2_duplicates\n"
   ]
  },
  {
   "cell_type": "code",
   "execution_count": 25,
   "id": "49d7025f-36ee-4d6f-95b1-1ddb2c5c4351",
   "metadata": {
    "scrolled": true
   },
   "outputs": [
    {
     "data": {
      "text/plain": [
       "prognosis\n",
       "Fungal infection                           120\n",
       "Hepatitis C                                120\n",
       "Hepatitis E                                120\n",
       "Alcoholic hepatitis                        120\n",
       "Tuberculosis                               120\n",
       "Common Cold                                120\n",
       "Pneumonia                                  120\n",
       "Dimorphic hemmorhoids(piles)               120\n",
       "Heart attack                               120\n",
       "Varicose veins                             120\n",
       "Hypothyroidism                             120\n",
       "Hyperthyroidism                            120\n",
       "Hypoglycemia                               120\n",
       "Osteoarthristis                            120\n",
       "Arthritis                                  120\n",
       "(vertigo) Paroymsal  Positional Vertigo    120\n",
       "Acne                                       120\n",
       "Urinary tract infection                    120\n",
       "Psoriasis                                  120\n",
       "Hepatitis D                                120\n",
       "Hepatitis B                                120\n",
       "Allergy                                    120\n",
       "hepatitis A                                120\n",
       "GERD                                       120\n",
       "Chronic cholestasis                        120\n",
       "Drug Reaction                              120\n",
       "Peptic ulcer diseae                        120\n",
       "AIDS                                       120\n",
       "Diabetes                                   120\n",
       "Gastroenteritis                            120\n",
       "Bronchial Asthma                           120\n",
       "Hypertension                               120\n",
       "Migraine                                   120\n",
       "Cervical spondylosis                       120\n",
       "Paralysis (brain hemorrhage)               120\n",
       "Jaundice                                   120\n",
       "Malaria                                    120\n",
       "Chicken pox                                120\n",
       "Dengue                                     120\n",
       "Typhoid                                    120\n",
       "Impetigo                                   120\n",
       "Name: count, dtype: int64"
      ]
     },
     "execution_count": 25,
     "metadata": {},
     "output_type": "execute_result"
    }
   ],
   "source": [
    "# distribution of the target variable in the entire training dataset\n",
    "df2_all = df2['prognosis'].value_counts()\n",
    "df2_all"
   ]
  },
  {
   "cell_type": "code",
   "execution_count": 32,
   "id": "7bd9b6ac-fb6a-4c95-9022-25a6896cfb61",
   "metadata": {},
   "outputs": [
    {
     "data": {
      "text/html": [
       "<div>\n",
       "<style scoped>\n",
       "    .dataframe tbody tr th:only-of-type {\n",
       "        vertical-align: middle;\n",
       "    }\n",
       "\n",
       "    .dataframe tbody tr th {\n",
       "        vertical-align: top;\n",
       "    }\n",
       "\n",
       "    .dataframe thead th {\n",
       "        text-align: right;\n",
       "    }\n",
       "</style>\n",
       "<table border=\"1\" class=\"dataframe\">\n",
       "  <thead>\n",
       "    <tr style=\"text-align: right;\">\n",
       "      <th></th>\n",
       "      <th>itching</th>\n",
       "      <th>skin_rash</th>\n",
       "      <th>nodal_skin_eruptions</th>\n",
       "      <th>continuous_sneezing</th>\n",
       "      <th>shivering</th>\n",
       "      <th>chills</th>\n",
       "      <th>joint_pain</th>\n",
       "      <th>stomach_pain</th>\n",
       "      <th>acidity</th>\n",
       "      <th>ulcers_on_tongue</th>\n",
       "      <th>...</th>\n",
       "      <th>blackheads</th>\n",
       "      <th>scurring</th>\n",
       "      <th>skin_peeling</th>\n",
       "      <th>silver_like_dusting</th>\n",
       "      <th>small_dents_in_nails</th>\n",
       "      <th>inflammatory_nails</th>\n",
       "      <th>blister</th>\n",
       "      <th>red_sore_around_nose</th>\n",
       "      <th>yellow_crust_ooze</th>\n",
       "      <th>prognosis</th>\n",
       "    </tr>\n",
       "  </thead>\n",
       "  <tbody>\n",
       "    <tr>\n",
       "      <th>0</th>\n",
       "      <td>1</td>\n",
       "      <td>1</td>\n",
       "      <td>1</td>\n",
       "      <td>0</td>\n",
       "      <td>0</td>\n",
       "      <td>0</td>\n",
       "      <td>0</td>\n",
       "      <td>0</td>\n",
       "      <td>0</td>\n",
       "      <td>0</td>\n",
       "      <td>...</td>\n",
       "      <td>0</td>\n",
       "      <td>0</td>\n",
       "      <td>0</td>\n",
       "      <td>0</td>\n",
       "      <td>0</td>\n",
       "      <td>0</td>\n",
       "      <td>0</td>\n",
       "      <td>0</td>\n",
       "      <td>0</td>\n",
       "      <td>Fungal infection</td>\n",
       "    </tr>\n",
       "    <tr>\n",
       "      <th>1</th>\n",
       "      <td>0</td>\n",
       "      <td>1</td>\n",
       "      <td>1</td>\n",
       "      <td>0</td>\n",
       "      <td>0</td>\n",
       "      <td>0</td>\n",
       "      <td>0</td>\n",
       "      <td>0</td>\n",
       "      <td>0</td>\n",
       "      <td>0</td>\n",
       "      <td>...</td>\n",
       "      <td>0</td>\n",
       "      <td>0</td>\n",
       "      <td>0</td>\n",
       "      <td>0</td>\n",
       "      <td>0</td>\n",
       "      <td>0</td>\n",
       "      <td>0</td>\n",
       "      <td>0</td>\n",
       "      <td>0</td>\n",
       "      <td>Fungal infection</td>\n",
       "    </tr>\n",
       "    <tr>\n",
       "      <th>2</th>\n",
       "      <td>1</td>\n",
       "      <td>0</td>\n",
       "      <td>1</td>\n",
       "      <td>0</td>\n",
       "      <td>0</td>\n",
       "      <td>0</td>\n",
       "      <td>0</td>\n",
       "      <td>0</td>\n",
       "      <td>0</td>\n",
       "      <td>0</td>\n",
       "      <td>...</td>\n",
       "      <td>0</td>\n",
       "      <td>0</td>\n",
       "      <td>0</td>\n",
       "      <td>0</td>\n",
       "      <td>0</td>\n",
       "      <td>0</td>\n",
       "      <td>0</td>\n",
       "      <td>0</td>\n",
       "      <td>0</td>\n",
       "      <td>Fungal infection</td>\n",
       "    </tr>\n",
       "    <tr>\n",
       "      <th>3</th>\n",
       "      <td>1</td>\n",
       "      <td>1</td>\n",
       "      <td>0</td>\n",
       "      <td>0</td>\n",
       "      <td>0</td>\n",
       "      <td>0</td>\n",
       "      <td>0</td>\n",
       "      <td>0</td>\n",
       "      <td>0</td>\n",
       "      <td>0</td>\n",
       "      <td>...</td>\n",
       "      <td>0</td>\n",
       "      <td>0</td>\n",
       "      <td>0</td>\n",
       "      <td>0</td>\n",
       "      <td>0</td>\n",
       "      <td>0</td>\n",
       "      <td>0</td>\n",
       "      <td>0</td>\n",
       "      <td>0</td>\n",
       "      <td>Fungal infection</td>\n",
       "    </tr>\n",
       "    <tr>\n",
       "      <th>4</th>\n",
       "      <td>1</td>\n",
       "      <td>1</td>\n",
       "      <td>1</td>\n",
       "      <td>0</td>\n",
       "      <td>0</td>\n",
       "      <td>0</td>\n",
       "      <td>0</td>\n",
       "      <td>0</td>\n",
       "      <td>0</td>\n",
       "      <td>0</td>\n",
       "      <td>...</td>\n",
       "      <td>0</td>\n",
       "      <td>0</td>\n",
       "      <td>0</td>\n",
       "      <td>0</td>\n",
       "      <td>0</td>\n",
       "      <td>0</td>\n",
       "      <td>0</td>\n",
       "      <td>0</td>\n",
       "      <td>0</td>\n",
       "      <td>Fungal infection</td>\n",
       "    </tr>\n",
       "    <tr>\n",
       "      <th>...</th>\n",
       "      <td>...</td>\n",
       "      <td>...</td>\n",
       "      <td>...</td>\n",
       "      <td>...</td>\n",
       "      <td>...</td>\n",
       "      <td>...</td>\n",
       "      <td>...</td>\n",
       "      <td>...</td>\n",
       "      <td>...</td>\n",
       "      <td>...</td>\n",
       "      <td>...</td>\n",
       "      <td>...</td>\n",
       "      <td>...</td>\n",
       "      <td>...</td>\n",
       "      <td>...</td>\n",
       "      <td>...</td>\n",
       "      <td>...</td>\n",
       "      <td>...</td>\n",
       "      <td>...</td>\n",
       "      <td>...</td>\n",
       "      <td>...</td>\n",
       "    </tr>\n",
       "    <tr>\n",
       "      <th>402</th>\n",
       "      <td>0</td>\n",
       "      <td>0</td>\n",
       "      <td>0</td>\n",
       "      <td>0</td>\n",
       "      <td>0</td>\n",
       "      <td>0</td>\n",
       "      <td>0</td>\n",
       "      <td>0</td>\n",
       "      <td>0</td>\n",
       "      <td>0</td>\n",
       "      <td>...</td>\n",
       "      <td>0</td>\n",
       "      <td>0</td>\n",
       "      <td>0</td>\n",
       "      <td>0</td>\n",
       "      <td>0</td>\n",
       "      <td>0</td>\n",
       "      <td>1</td>\n",
       "      <td>1</td>\n",
       "      <td>1</td>\n",
       "      <td>Impetigo</td>\n",
       "    </tr>\n",
       "    <tr>\n",
       "      <th>403</th>\n",
       "      <td>0</td>\n",
       "      <td>1</td>\n",
       "      <td>0</td>\n",
       "      <td>0</td>\n",
       "      <td>0</td>\n",
       "      <td>0</td>\n",
       "      <td>0</td>\n",
       "      <td>0</td>\n",
       "      <td>0</td>\n",
       "      <td>0</td>\n",
       "      <td>...</td>\n",
       "      <td>0</td>\n",
       "      <td>0</td>\n",
       "      <td>0</td>\n",
       "      <td>0</td>\n",
       "      <td>0</td>\n",
       "      <td>0</td>\n",
       "      <td>1</td>\n",
       "      <td>1</td>\n",
       "      <td>1</td>\n",
       "      <td>Impetigo</td>\n",
       "    </tr>\n",
       "    <tr>\n",
       "      <th>405</th>\n",
       "      <td>0</td>\n",
       "      <td>1</td>\n",
       "      <td>0</td>\n",
       "      <td>0</td>\n",
       "      <td>0</td>\n",
       "      <td>0</td>\n",
       "      <td>0</td>\n",
       "      <td>0</td>\n",
       "      <td>0</td>\n",
       "      <td>0</td>\n",
       "      <td>...</td>\n",
       "      <td>0</td>\n",
       "      <td>0</td>\n",
       "      <td>0</td>\n",
       "      <td>0</td>\n",
       "      <td>0</td>\n",
       "      <td>0</td>\n",
       "      <td>0</td>\n",
       "      <td>1</td>\n",
       "      <td>1</td>\n",
       "      <td>Impetigo</td>\n",
       "    </tr>\n",
       "    <tr>\n",
       "      <th>406</th>\n",
       "      <td>0</td>\n",
       "      <td>1</td>\n",
       "      <td>0</td>\n",
       "      <td>0</td>\n",
       "      <td>0</td>\n",
       "      <td>0</td>\n",
       "      <td>0</td>\n",
       "      <td>0</td>\n",
       "      <td>0</td>\n",
       "      <td>0</td>\n",
       "      <td>...</td>\n",
       "      <td>0</td>\n",
       "      <td>0</td>\n",
       "      <td>0</td>\n",
       "      <td>0</td>\n",
       "      <td>0</td>\n",
       "      <td>0</td>\n",
       "      <td>1</td>\n",
       "      <td>0</td>\n",
       "      <td>1</td>\n",
       "      <td>Impetigo</td>\n",
       "    </tr>\n",
       "    <tr>\n",
       "      <th>407</th>\n",
       "      <td>0</td>\n",
       "      <td>1</td>\n",
       "      <td>0</td>\n",
       "      <td>0</td>\n",
       "      <td>0</td>\n",
       "      <td>0</td>\n",
       "      <td>0</td>\n",
       "      <td>0</td>\n",
       "      <td>0</td>\n",
       "      <td>0</td>\n",
       "      <td>...</td>\n",
       "      <td>0</td>\n",
       "      <td>0</td>\n",
       "      <td>0</td>\n",
       "      <td>0</td>\n",
       "      <td>0</td>\n",
       "      <td>0</td>\n",
       "      <td>1</td>\n",
       "      <td>1</td>\n",
       "      <td>0</td>\n",
       "      <td>Impetigo</td>\n",
       "    </tr>\n",
       "  </tbody>\n",
       "</table>\n",
       "<p>304 rows × 133 columns</p>\n",
       "</div>"
      ],
      "text/plain": [
       "     itching  skin_rash  nodal_skin_eruptions  continuous_sneezing  shivering  \\\n",
       "0          1          1                     1                    0          0   \n",
       "1          0          1                     1                    0          0   \n",
       "2          1          0                     1                    0          0   \n",
       "3          1          1                     0                    0          0   \n",
       "4          1          1                     1                    0          0   \n",
       "..       ...        ...                   ...                  ...        ...   \n",
       "402        0          0                     0                    0          0   \n",
       "403        0          1                     0                    0          0   \n",
       "405        0          1                     0                    0          0   \n",
       "406        0          1                     0                    0          0   \n",
       "407        0          1                     0                    0          0   \n",
       "\n",
       "     chills  joint_pain  stomach_pain  acidity  ulcers_on_tongue  ...  \\\n",
       "0         0           0             0        0                 0  ...   \n",
       "1         0           0             0        0                 0  ...   \n",
       "2         0           0             0        0                 0  ...   \n",
       "3         0           0             0        0                 0  ...   \n",
       "4         0           0             0        0                 0  ...   \n",
       "..      ...         ...           ...      ...               ...  ...   \n",
       "402       0           0             0        0                 0  ...   \n",
       "403       0           0             0        0                 0  ...   \n",
       "405       0           0             0        0                 0  ...   \n",
       "406       0           0             0        0                 0  ...   \n",
       "407       0           0             0        0                 0  ...   \n",
       "\n",
       "     blackheads  scurring  skin_peeling  silver_like_dusting  \\\n",
       "0             0         0             0                    0   \n",
       "1             0         0             0                    0   \n",
       "2             0         0             0                    0   \n",
       "3             0         0             0                    0   \n",
       "4             0         0             0                    0   \n",
       "..          ...       ...           ...                  ...   \n",
       "402           0         0             0                    0   \n",
       "403           0         0             0                    0   \n",
       "405           0         0             0                    0   \n",
       "406           0         0             0                    0   \n",
       "407           0         0             0                    0   \n",
       "\n",
       "     small_dents_in_nails  inflammatory_nails  blister  red_sore_around_nose  \\\n",
       "0                       0                   0        0                     0   \n",
       "1                       0                   0        0                     0   \n",
       "2                       0                   0        0                     0   \n",
       "3                       0                   0        0                     0   \n",
       "4                       0                   0        0                     0   \n",
       "..                    ...                 ...      ...                   ...   \n",
       "402                     0                   0        1                     1   \n",
       "403                     0                   0        1                     1   \n",
       "405                     0                   0        0                     1   \n",
       "406                     0                   0        1                     0   \n",
       "407                     0                   0        1                     1   \n",
       "\n",
       "     yellow_crust_ooze         prognosis  \n",
       "0                    0  Fungal infection  \n",
       "1                    0  Fungal infection  \n",
       "2                    0  Fungal infection  \n",
       "3                    0  Fungal infection  \n",
       "4                    0  Fungal infection  \n",
       "..                 ...               ...  \n",
       "402                  1          Impetigo  \n",
       "403                  1          Impetigo  \n",
       "405                  1          Impetigo  \n",
       "406                  1          Impetigo  \n",
       "407                  0          Impetigo  \n",
       "\n",
       "[304 rows x 133 columns]"
      ]
     },
     "execution_count": 32,
     "metadata": {},
     "output_type": "execute_result"
    }
   ],
   "source": [
    "after_dropping = df2.drop_duplicates()\n",
    "after_dropping"
   ]
  },
  {
   "cell_type": "code",
   "execution_count": 35,
   "id": "ac7ef5c2-80b6-402d-9e1d-4c0d489dc475",
   "metadata": {},
   "outputs": [
    {
     "data": {
      "text/html": [
       "<div>\n",
       "<style scoped>\n",
       "    .dataframe tbody tr th:only-of-type {\n",
       "        vertical-align: middle;\n",
       "    }\n",
       "\n",
       "    .dataframe tbody tr th {\n",
       "        vertical-align: top;\n",
       "    }\n",
       "\n",
       "    .dataframe thead th {\n",
       "        text-align: right;\n",
       "    }\n",
       "</style>\n",
       "<table border=\"1\" class=\"dataframe\">\n",
       "  <thead>\n",
       "    <tr style=\"text-align: right;\">\n",
       "      <th></th>\n",
       "      <th>Disease</th>\n",
       "      <th>County</th>\n",
       "      <th>Year</th>\n",
       "      <th>Sex</th>\n",
       "      <th>Count</th>\n",
       "      <th>Population</th>\n",
       "      <th>Rate</th>\n",
       "      <th>CI.lower</th>\n",
       "      <th>CI.upper</th>\n",
       "      <th>Unstable</th>\n",
       "    </tr>\n",
       "  </thead>\n",
       "  <tbody>\n",
       "    <tr>\n",
       "      <th>0</th>\n",
       "      <td>Amebiasis</td>\n",
       "      <td>California</td>\n",
       "      <td>2001</td>\n",
       "      <td>Total</td>\n",
       "      <td>571</td>\n",
       "      <td>34514777</td>\n",
       "      <td>1.654</td>\n",
       "      <td>1.521</td>\n",
       "      <td>1.796</td>\n",
       "      <td></td>\n",
       "    </tr>\n",
       "    <tr>\n",
       "      <th>1</th>\n",
       "      <td>Amebiasis</td>\n",
       "      <td>California</td>\n",
       "      <td>2001</td>\n",
       "      <td>Female</td>\n",
       "      <td>176</td>\n",
       "      <td>17340743</td>\n",
       "      <td>1.015</td>\n",
       "      <td>0.871</td>\n",
       "      <td>1.176</td>\n",
       "      <td></td>\n",
       "    </tr>\n",
       "    <tr>\n",
       "      <th>2</th>\n",
       "      <td>Amebiasis</td>\n",
       "      <td>California</td>\n",
       "      <td>2001</td>\n",
       "      <td>Male</td>\n",
       "      <td>365</td>\n",
       "      <td>17174034</td>\n",
       "      <td>2.125</td>\n",
       "      <td>1.913</td>\n",
       "      <td>2.355</td>\n",
       "      <td></td>\n",
       "    </tr>\n",
       "    <tr>\n",
       "      <th>3</th>\n",
       "      <td>Amebiasis</td>\n",
       "      <td>California</td>\n",
       "      <td>2002</td>\n",
       "      <td>Total</td>\n",
       "      <td>442</td>\n",
       "      <td>34940334</td>\n",
       "      <td>1.265</td>\n",
       "      <td>1.150</td>\n",
       "      <td>1.389</td>\n",
       "      <td></td>\n",
       "    </tr>\n",
       "    <tr>\n",
       "      <th>4</th>\n",
       "      <td>Amebiasis</td>\n",
       "      <td>California</td>\n",
       "      <td>2002</td>\n",
       "      <td>Female</td>\n",
       "      <td>145</td>\n",
       "      <td>17555714</td>\n",
       "      <td>0.826</td>\n",
       "      <td>0.697</td>\n",
       "      <td>0.972</td>\n",
       "      <td></td>\n",
       "    </tr>\n",
       "    <tr>\n",
       "      <th>...</th>\n",
       "      <td>...</td>\n",
       "      <td>...</td>\n",
       "      <td>...</td>\n",
       "      <td>...</td>\n",
       "      <td>...</td>\n",
       "      <td>...</td>\n",
       "      <td>...</td>\n",
       "      <td>...</td>\n",
       "      <td>...</td>\n",
       "      <td>...</td>\n",
       "    </tr>\n",
       "    <tr>\n",
       "      <th>141772</th>\n",
       "      <td>Yersiniosis</td>\n",
       "      <td>Yuba</td>\n",
       "      <td>2013</td>\n",
       "      <td>Female</td>\n",
       "      <td>0</td>\n",
       "      <td>36296</td>\n",
       "      <td>0.000</td>\n",
       "      <td>0.000</td>\n",
       "      <td>10.163</td>\n",
       "      <td>-</td>\n",
       "    </tr>\n",
       "    <tr>\n",
       "      <th>141773</th>\n",
       "      <td>Yersiniosis</td>\n",
       "      <td>Yuba</td>\n",
       "      <td>2013</td>\n",
       "      <td>Male</td>\n",
       "      <td>0</td>\n",
       "      <td>36698</td>\n",
       "      <td>0.000</td>\n",
       "      <td>0.000</td>\n",
       "      <td>10.051</td>\n",
       "      <td>-</td>\n",
       "    </tr>\n",
       "    <tr>\n",
       "      <th>141774</th>\n",
       "      <td>Yersiniosis</td>\n",
       "      <td>Yuba</td>\n",
       "      <td>2014</td>\n",
       "      <td>Total</td>\n",
       "      <td>0</td>\n",
       "      <td>73425</td>\n",
       "      <td>0.000</td>\n",
       "      <td>0.000</td>\n",
       "      <td>5.024</td>\n",
       "      <td>-</td>\n",
       "    </tr>\n",
       "    <tr>\n",
       "      <th>141775</th>\n",
       "      <td>Yersiniosis</td>\n",
       "      <td>Yuba</td>\n",
       "      <td>2014</td>\n",
       "      <td>Female</td>\n",
       "      <td>0</td>\n",
       "      <td>36503</td>\n",
       "      <td>0.000</td>\n",
       "      <td>0.000</td>\n",
       "      <td>10.105</td>\n",
       "      <td>-</td>\n",
       "    </tr>\n",
       "    <tr>\n",
       "      <th>141776</th>\n",
       "      <td>Yersiniosis</td>\n",
       "      <td>Yuba</td>\n",
       "      <td>2014</td>\n",
       "      <td>Male</td>\n",
       "      <td>0</td>\n",
       "      <td>36922</td>\n",
       "      <td>0.000</td>\n",
       "      <td>0.000</td>\n",
       "      <td>9.991</td>\n",
       "      <td>-</td>\n",
       "    </tr>\n",
       "  </tbody>\n",
       "</table>\n",
       "<p>141777 rows × 10 columns</p>\n",
       "</div>"
      ],
      "text/plain": [
       "            Disease      County  Year     Sex  Count  Population   Rate  \\\n",
       "0         Amebiasis  California  2001   Total    571    34514777  1.654   \n",
       "1         Amebiasis  California  2001  Female    176    17340743  1.015   \n",
       "2         Amebiasis  California  2001    Male    365    17174034  2.125   \n",
       "3         Amebiasis  California  2002   Total    442    34940334  1.265   \n",
       "4         Amebiasis  California  2002  Female    145    17555714  0.826   \n",
       "...             ...         ...   ...     ...    ...         ...    ...   \n",
       "141772  Yersiniosis        Yuba  2013  Female      0       36296  0.000   \n",
       "141773  Yersiniosis        Yuba  2013    Male      0       36698  0.000   \n",
       "141774  Yersiniosis        Yuba  2014   Total      0       73425  0.000   \n",
       "141775  Yersiniosis        Yuba  2014  Female      0       36503  0.000   \n",
       "141776  Yersiniosis        Yuba  2014    Male      0       36922  0.000   \n",
       "\n",
       "        CI.lower  CI.upper Unstable  \n",
       "0          1.521     1.796           \n",
       "1          0.871     1.176           \n",
       "2          1.913     2.355           \n",
       "3          1.150     1.389           \n",
       "4          0.697     0.972           \n",
       "...          ...       ...      ...  \n",
       "141772     0.000    10.163        -  \n",
       "141773     0.000    10.051        -  \n",
       "141774     0.000     5.024        -  \n",
       "141775     0.000    10.105        -  \n",
       "141776     0.000     9.991        -  \n",
       "\n",
       "[141777 rows x 10 columns]"
      ]
     },
     "execution_count": 35,
     "metadata": {},
     "output_type": "execute_result"
    }
   ],
   "source": [
    "df3 = pd.read_csv('Infectious Disease 2001-2014.csv')\n",
    "df3"
   ]
  },
  {
   "cell_type": "code",
   "execution_count": 36,
   "id": "53277014-5eda-4d31-8817-bcc76637d7ab",
   "metadata": {},
   "outputs": [
    {
     "data": {
      "text/plain": [
       "(141777, 10)"
      ]
     },
     "execution_count": 36,
     "metadata": {},
     "output_type": "execute_result"
    }
   ],
   "source": [
    "df3.shape"
   ]
  },
  {
   "cell_type": "markdown",
   "id": "2ab74cd7-7dab-4248-8e7e-c6dc67fea8ed",
   "metadata": {},
   "source": [
    "Goal:\n",
    "\n",
    "Predict the type of infectious disease based on location,  gender, and other relevant features.\n",
    "\n",
    "Target Variable:\n",
    "\n",
    "Diseas: The type of infacteous disease."
   ]
  },
  {
   "cell_type": "code",
   "execution_count": 37,
   "id": "205e0778-d6bd-42d9-afc9-2d2e3fcb6e3e",
   "metadata": {},
   "outputs": [
    {
     "data": {
      "text/plain": [
       "Disease       0\n",
       "County        0\n",
       "Year          0\n",
       "Sex           0\n",
       "Count         0\n",
       "Population    0\n",
       "Rate          0\n",
       "CI.lower      0\n",
       "CI.upper      0\n",
       "Unstable      0\n",
       "dtype: int64"
      ]
     },
     "execution_count": 37,
     "metadata": {},
     "output_type": "execute_result"
    }
   ],
   "source": [
    "df3.isnull().sum()\n"
   ]
  },
  {
   "cell_type": "code",
   "execution_count": 39,
   "id": "53d21792-6a25-4121-a83f-eb7d9bd801c1",
   "metadata": {},
   "outputs": [],
   "source": [
    "# i will remove these and keep disease, county, year, sex and population.\n",
    "after_remove = [\"Count\", \"Rate\", \"CI.lower\", \"CI.upper\", \"Unstable\"]\n"
   ]
  },
  {
   "cell_type": "code",
   "execution_count": 43,
   "id": "9052ad1a-ebe0-4d2c-b8a6-e0460fc65b75",
   "metadata": {},
   "outputs": [
    {
     "name": "stdout",
     "output_type": "stream",
     "text": [
      "<class 'pandas.core.frame.DataFrame'>\n",
      "RangeIndex: 141777 entries, 0 to 141776\n",
      "Data columns (total 5 columns):\n",
      " #   Column      Non-Null Count   Dtype \n",
      "---  ------      --------------   ----- \n",
      " 0   Disease     141777 non-null  object\n",
      " 1   County      141777 non-null  object\n",
      " 2   Year        141777 non-null  int64 \n",
      " 3   Sex         141777 non-null  object\n",
      " 4   Population  141777 non-null  int64 \n",
      "dtypes: int64(2), object(3)\n",
      "memory usage: 5.4+ MB\n"
     ]
    }
   ],
   "source": [
    "# Removing the irrelevant columns\n",
    "cleaned_data = df3.drop(columns=after_remove)\n",
    "cleaned_data.info()"
   ]
  },
  {
   "cell_type": "code",
   "execution_count": 44,
   "id": "a4152085-fa31-4956-a07a-dae4ccc83896",
   "metadata": {},
   "outputs": [],
   "source": [
    "# Filtering the dataset with the year 2014\n",
    "data_2014 = cleaned_data[cleaned_data['Year'] == 2014]\n",
    "\n"
   ]
  },
  {
   "cell_type": "code",
   "execution_count": 45,
   "id": "f18788b5-1fbe-479f-b453-58e522da0cc2",
   "metadata": {},
   "outputs": [
    {
     "name": "stdout",
     "output_type": "stream",
     "text": [
      "<class 'pandas.core.frame.DataFrame'>\n",
      "Index: 11505 entries, 39 to 141776\n",
      "Data columns (total 5 columns):\n",
      " #   Column      Non-Null Count  Dtype \n",
      "---  ------      --------------  ----- \n",
      " 0   Disease     11505 non-null  object\n",
      " 1   County      11505 non-null  object\n",
      " 2   Year        11505 non-null  int64 \n",
      " 3   Sex         11505 non-null  object\n",
      " 4   Population  11505 non-null  int64 \n",
      "dtypes: int64(2), object(3)\n",
      "memory usage: 539.3+ KB\n"
     ]
    }
   ],
   "source": [
    "data_2014.info()"
   ]
  },
  {
   "cell_type": "code",
   "execution_count": null,
   "id": "8b1dcb76-1f6b-450a-b70a-98d138ec7af4",
   "metadata": {},
   "outputs": [],
   "source": []
  }
 ],
 "metadata": {
  "kernelspec": {
   "display_name": "Python 3 (ipykernel)",
   "language": "python",
   "name": "python3"
  },
  "language_info": {
   "codemirror_mode": {
    "name": "ipython",
    "version": 3
   },
   "file_extension": ".py",
   "mimetype": "text/x-python",
   "name": "python",
   "nbconvert_exporter": "python",
   "pygments_lexer": "ipython3",
   "version": "3.10.12"
  }
 },
 "nbformat": 4,
 "nbformat_minor": 5
}
