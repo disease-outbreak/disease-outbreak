{
 "cells": [
  {
   "cell_type": "markdown",
   "id": "0e692098-c5d4-42ee-a075-5c529d5f321e",
   "metadata": {},
   "source": [
    "# Disease Symptoms Prediction Model"
   ]
  },
  {
   "cell_type": "markdown",
   "id": "69a68ee1-7409-4ba6-bac3-bade891744e0",
   "metadata": {},
   "source": [
    "### **Project Goal**\n",
    "\n",
    "**Objective:**  \n",
    "To develop a machine learning model that accurately predicts the disease based on the reported symptoms."
   ]
  },
  {
   "cell_type": "markdown",
   "id": "0f243cb4-ce85-4e2a-ac57-361e8dc3ea1a",
   "metadata": {},
   "source": [
    "**Background:**  \n",
    "Diagnosis of diseases often requires expertise and thorough medical examination. However, for common ailments or as a preliminary diagnostic tool, we aim to utilize symptom data to predict potential diseases. This tool can assist healthcare professionals as a reference, guide patients in understanding their conditions, or even help in telemedicine where immediate physical diagnosis isn't feasible.\n",
    "\n",
    "**Data:**  \n",
    "The dataset comprises various diseases and their associated symptoms. Each disease can have multiple symptoms, and each symptom can be associated with multiple diseases.\n",
    "\n",
    "**Expected Outcomes:**  \n",
    "1. A robust model that can predict the disease based on the given symptoms.\n",
    "2. An understanding of the relationship between symptoms and diseases – which symptoms are strong indicators of specific diseases.\n",
    "3. A baseline comparison to understand the efficacy of our model.\n",
    "\n",
    "**Constraints:**  \n",
    "1. The model is not a replacement for professional medical advice. It's a supplementary tool to assist in understanding symptoms.\n",
    "2. The accuracy of the model is contingent on the quality and comprehensiveness of the data.\n",
    "\n",
    "**Next Steps:**  \n",
    "Upon achieving satisfactory model performance, we aim to:\n",
    "1. Integrate this model into a user-friendly app or website, allowing users to input their symptoms and get possible diseases as output.\n",
    "2. Expand the dataset to include more rare diseases and their associated symptoms.\n",
    "3. Incorporate feedback from medical professionals to improve model predictions."
   ]
  },
  {
   "cell_type": "code",
   "execution_count": 1,
   "id": "50703e51-6b93-4685-aec6-ed6ebc796818",
   "metadata": {},
   "outputs": [],
   "source": [
    "import warnings\n",
    "\n",
    "import numpy as np\n",
    "import pandas as pd\n",
    "import seaborn as sns\n",
    "from wordcloud import WordCloud\n",
    "import matplotlib.pyplot as plt\n",
    "\n",
    "from itertools import chain\n",
    "from nltk.util import ngrams\n",
    "from collections import Counter\n",
    "from sklearn.utils import resample\n",
    "from scipy.stats import chi2_contingency\n",
    "from sklearn.dummy import DummyClassifier\n",
    "from sklearn.metrics import accuracy_score\n",
    "from sklearn.preprocessing import LabelEncoder\n",
    "from sklearn.tree import DecisionTreeClassifier\n",
    "from sklearn.neighbors import KNeighborsClassifier\n",
    "from sklearn.linear_model import LogisticRegression\n",
    "from sklearn.ensemble import RandomForestClassifier\n",
    "from sklearn.model_selection import train_test_split\n",
    "from sklearn.metrics import precision_score, recall_score, f1_score\n",
    "\n",
    "warnings.filterwarnings('ignore')"
   ]
  },
  {
   "cell_type": "markdown",
   "id": "dfe24c33-abc6-40bc-86de-a1b5529f8a21",
   "metadata": {},
   "source": [
    "## Acquire"
   ]
  },
  {
   "cell_type": "markdown",
   "id": "1e80b316-0dcf-4fb3-9617-4d64695d6720",
   "metadata": {},
   "source": [
    "#### Dataset Structure:\n",
    "\n",
    "- **Rows**: 4920\n",
    "- **Columns**: 18"
   ]
  },
  {
   "cell_type": "code",
   "execution_count": 2,
   "id": "a43cd53e-e19d-400d-9e2e-623849a198dd",
   "metadata": {},
   "outputs": [],
   "source": [
    "df = pd.read_csv('dataset.csv')"
   ]
  },
  {
   "cell_type": "code",
   "execution_count": 3,
   "id": "e24fa691-4c4b-4b49-bef2-87de89e7c3b5",
   "metadata": {
    "scrolled": true
   },
   "outputs": [
    {
     "data": {
      "text/html": [
       "<div>\n",
       "<style scoped>\n",
       "    .dataframe tbody tr th:only-of-type {\n",
       "        vertical-align: middle;\n",
       "    }\n",
       "\n",
       "    .dataframe tbody tr th {\n",
       "        vertical-align: top;\n",
       "    }\n",
       "\n",
       "    .dataframe thead th {\n",
       "        text-align: right;\n",
       "    }\n",
       "</style>\n",
       "<table border=\"1\" class=\"dataframe\">\n",
       "  <thead>\n",
       "    <tr style=\"text-align: right;\">\n",
       "      <th></th>\n",
       "      <th>Disease</th>\n",
       "      <th>Symptom_1</th>\n",
       "      <th>Symptom_2</th>\n",
       "      <th>Symptom_3</th>\n",
       "      <th>Symptom_4</th>\n",
       "      <th>Symptom_5</th>\n",
       "      <th>Symptom_6</th>\n",
       "      <th>Symptom_7</th>\n",
       "      <th>Symptom_8</th>\n",
       "      <th>Symptom_9</th>\n",
       "      <th>Symptom_10</th>\n",
       "      <th>Symptom_11</th>\n",
       "      <th>Symptom_12</th>\n",
       "      <th>Symptom_13</th>\n",
       "      <th>Symptom_14</th>\n",
       "      <th>Symptom_15</th>\n",
       "      <th>Symptom_16</th>\n",
       "      <th>Symptom_17</th>\n",
       "    </tr>\n",
       "  </thead>\n",
       "  <tbody>\n",
       "    <tr>\n",
       "      <th>0</th>\n",
       "      <td>Fungal infection</td>\n",
       "      <td>itching</td>\n",
       "      <td>skin_rash</td>\n",
       "      <td>nodal_skin_eruptions</td>\n",
       "      <td>dischromic _patches</td>\n",
       "      <td>NaN</td>\n",
       "      <td>NaN</td>\n",
       "      <td>NaN</td>\n",
       "      <td>NaN</td>\n",
       "      <td>NaN</td>\n",
       "      <td>NaN</td>\n",
       "      <td>NaN</td>\n",
       "      <td>NaN</td>\n",
       "      <td>NaN</td>\n",
       "      <td>NaN</td>\n",
       "      <td>NaN</td>\n",
       "      <td>NaN</td>\n",
       "      <td>NaN</td>\n",
       "    </tr>\n",
       "    <tr>\n",
       "      <th>1</th>\n",
       "      <td>Fungal infection</td>\n",
       "      <td>skin_rash</td>\n",
       "      <td>nodal_skin_eruptions</td>\n",
       "      <td>dischromic _patches</td>\n",
       "      <td>NaN</td>\n",
       "      <td>NaN</td>\n",
       "      <td>NaN</td>\n",
       "      <td>NaN</td>\n",
       "      <td>NaN</td>\n",
       "      <td>NaN</td>\n",
       "      <td>NaN</td>\n",
       "      <td>NaN</td>\n",
       "      <td>NaN</td>\n",
       "      <td>NaN</td>\n",
       "      <td>NaN</td>\n",
       "      <td>NaN</td>\n",
       "      <td>NaN</td>\n",
       "      <td>NaN</td>\n",
       "    </tr>\n",
       "    <tr>\n",
       "      <th>2</th>\n",
       "      <td>Fungal infection</td>\n",
       "      <td>itching</td>\n",
       "      <td>nodal_skin_eruptions</td>\n",
       "      <td>dischromic _patches</td>\n",
       "      <td>NaN</td>\n",
       "      <td>NaN</td>\n",
       "      <td>NaN</td>\n",
       "      <td>NaN</td>\n",
       "      <td>NaN</td>\n",
       "      <td>NaN</td>\n",
       "      <td>NaN</td>\n",
       "      <td>NaN</td>\n",
       "      <td>NaN</td>\n",
       "      <td>NaN</td>\n",
       "      <td>NaN</td>\n",
       "      <td>NaN</td>\n",
       "      <td>NaN</td>\n",
       "      <td>NaN</td>\n",
       "    </tr>\n",
       "    <tr>\n",
       "      <th>3</th>\n",
       "      <td>Fungal infection</td>\n",
       "      <td>itching</td>\n",
       "      <td>skin_rash</td>\n",
       "      <td>dischromic _patches</td>\n",
       "      <td>NaN</td>\n",
       "      <td>NaN</td>\n",
       "      <td>NaN</td>\n",
       "      <td>NaN</td>\n",
       "      <td>NaN</td>\n",
       "      <td>NaN</td>\n",
       "      <td>NaN</td>\n",
       "      <td>NaN</td>\n",
       "      <td>NaN</td>\n",
       "      <td>NaN</td>\n",
       "      <td>NaN</td>\n",
       "      <td>NaN</td>\n",
       "      <td>NaN</td>\n",
       "      <td>NaN</td>\n",
       "    </tr>\n",
       "    <tr>\n",
       "      <th>4</th>\n",
       "      <td>Fungal infection</td>\n",
       "      <td>itching</td>\n",
       "      <td>skin_rash</td>\n",
       "      <td>nodal_skin_eruptions</td>\n",
       "      <td>NaN</td>\n",
       "      <td>NaN</td>\n",
       "      <td>NaN</td>\n",
       "      <td>NaN</td>\n",
       "      <td>NaN</td>\n",
       "      <td>NaN</td>\n",
       "      <td>NaN</td>\n",
       "      <td>NaN</td>\n",
       "      <td>NaN</td>\n",
       "      <td>NaN</td>\n",
       "      <td>NaN</td>\n",
       "      <td>NaN</td>\n",
       "      <td>NaN</td>\n",
       "      <td>NaN</td>\n",
       "    </tr>\n",
       "  </tbody>\n",
       "</table>\n",
       "</div>"
      ],
      "text/plain": [
       "            Disease   Symptom_1              Symptom_2              Symptom_3  \\\n",
       "0  Fungal infection     itching              skin_rash   nodal_skin_eruptions   \n",
       "1  Fungal infection   skin_rash   nodal_skin_eruptions    dischromic _patches   \n",
       "2  Fungal infection     itching   nodal_skin_eruptions    dischromic _patches   \n",
       "3  Fungal infection     itching              skin_rash    dischromic _patches   \n",
       "4  Fungal infection     itching              skin_rash   nodal_skin_eruptions   \n",
       "\n",
       "              Symptom_4 Symptom_5 Symptom_6 Symptom_7 Symptom_8 Symptom_9  \\\n",
       "0   dischromic _patches       NaN       NaN       NaN       NaN       NaN   \n",
       "1                   NaN       NaN       NaN       NaN       NaN       NaN   \n",
       "2                   NaN       NaN       NaN       NaN       NaN       NaN   \n",
       "3                   NaN       NaN       NaN       NaN       NaN       NaN   \n",
       "4                   NaN       NaN       NaN       NaN       NaN       NaN   \n",
       "\n",
       "  Symptom_10 Symptom_11 Symptom_12 Symptom_13 Symptom_14 Symptom_15  \\\n",
       "0        NaN        NaN        NaN        NaN        NaN        NaN   \n",
       "1        NaN        NaN        NaN        NaN        NaN        NaN   \n",
       "2        NaN        NaN        NaN        NaN        NaN        NaN   \n",
       "3        NaN        NaN        NaN        NaN        NaN        NaN   \n",
       "4        NaN        NaN        NaN        NaN        NaN        NaN   \n",
       "\n",
       "  Symptom_16 Symptom_17  \n",
       "0        NaN        NaN  \n",
       "1        NaN        NaN  \n",
       "2        NaN        NaN  \n",
       "3        NaN        NaN  \n",
       "4        NaN        NaN  "
      ]
     },
     "execution_count": 3,
     "metadata": {},
     "output_type": "execute_result"
    }
   ],
   "source": [
    "df.head()"
   ]
  },
  {
   "cell_type": "code",
   "execution_count": 4,
   "id": "23fee799-7929-4bef-b35b-2cc68d7128b9",
   "metadata": {},
   "outputs": [
    {
     "data": {
      "text/plain": [
       "(4920, 18)"
      ]
     },
     "execution_count": 4,
     "metadata": {},
     "output_type": "execute_result"
    }
   ],
   "source": [
    "df.shape"
   ]
  },
  {
   "cell_type": "markdown",
   "id": "bb2ddfb9-275f-4565-9e97-ddf464efa11e",
   "metadata": {},
   "source": [
    "## Prepare:"
   ]
  },
  {
   "cell_type": "markdown",
   "id": "967b1294-4530-40f2-b04d-8082e5478539",
   "metadata": {},
   "source": [
    "### Data Preprocessing\n",
    "\n",
    "Converting the dataset into a format suitable for machine learning:\n",
    "\n",
    "1. Convert symptom columns to consistent data types.\n",
    "2. One-hot encode each symptom column.\n",
    "3. Aggregate the one-hot encoded columns to remove duplicates.\n",
    "4. Construct the final dataset combining diseases and their respective symptoms."
   ]
  },
  {
   "cell_type": "code",
   "execution_count": 5,
   "id": "98012470-f476-42fb-9828-9a18701a35b0",
   "metadata": {},
   "outputs": [],
   "source": [
    "# Convert symptom columns to string type for consistent data type\n",
    "df[df.columns[1:]] = df[df.columns[1:]].astype(str)"
   ]
  },
  {
   "cell_type": "markdown",
   "id": "e0ffd45d-1916-46c6-999c-262074ee8840",
   "metadata": {},
   "source": [
    "### One-hot encoding each symptom column."
   ]
  },
  {
   "cell_type": "code",
   "execution_count": 6,
   "id": "632cefa0-6f61-4f38-b334-7049a8a36d2b",
   "metadata": {},
   "outputs": [],
   "source": [
    "# One-hot encode each symptom column\n",
    "encoded_list = [pd.get_dummies(df[col], prefix=\"\", prefix_sep=\"\") for col in df.columns[1:]]\n",
    "encoded_df = pd.concat(encoded_list, axis=1)"
   ]
  },
  {
   "cell_type": "markdown",
   "id": "44bba5cf-a73f-4ef5-aa63-0c1d29902b32",
   "metadata": {},
   "source": [
    "### Aggregating duplicates to ensure each symptom is represented only once in our final dataset."
   ]
  },
  {
   "cell_type": "code",
   "execution_count": 7,
   "id": "268e431c-3a2c-423c-9afd-ab4ac53c974e",
   "metadata": {},
   "outputs": [],
   "source": [
    "# Aggregate the one-hot encoded columns to remove duplicates\n",
    "encoded_df = encoded_df.groupby(encoded_df.columns, axis=1).sum().clip(upper=1)"
   ]
  },
  {
   "cell_type": "markdown",
   "id": "12f4b1dd-e8ee-4184-a1cc-6a59854a9ef6",
   "metadata": {},
   "source": [
    "### Merging the encoded symptoms with their respective diseases to get our preprocessed dataset."
   ]
  },
  {
   "cell_type": "code",
   "execution_count": 8,
   "id": "6ec52fb9-4cbe-4f44-af95-20c80b3c63ba",
   "metadata": {},
   "outputs": [],
   "source": [
    "# Concatenate the Disease column with the aggregated symptoms\n",
    "df_final = pd.concat([df[\"Disease\"], encoded_df], axis=1)"
   ]
  },
  {
   "cell_type": "code",
   "execution_count": 9,
   "id": "169d3b13-bbae-4096-b53c-9fd0564a1eae",
   "metadata": {},
   "outputs": [],
   "source": [
    "# Drop the 'nan' column that resulted from the NaN values in the original dataset\n",
    "df_final = df_final.drop(columns='nan')"
   ]
  },
  {
   "cell_type": "code",
   "execution_count": 10,
   "id": "4f7c1583-c958-4af0-af58-1e89b15edcc9",
   "metadata": {},
   "outputs": [
    {
     "data": {
      "text/html": [
       "<div>\n",
       "<style scoped>\n",
       "    .dataframe tbody tr th:only-of-type {\n",
       "        vertical-align: middle;\n",
       "    }\n",
       "\n",
       "    .dataframe tbody tr th {\n",
       "        vertical-align: top;\n",
       "    }\n",
       "\n",
       "    .dataframe thead th {\n",
       "        text-align: right;\n",
       "    }\n",
       "</style>\n",
       "<table border=\"1\" class=\"dataframe\">\n",
       "  <thead>\n",
       "    <tr style=\"text-align: right;\">\n",
       "      <th></th>\n",
       "      <th>Disease</th>\n",
       "      <th>abdominal_pain</th>\n",
       "      <th>abnormal_menstruation</th>\n",
       "      <th>acidity</th>\n",
       "      <th>acute_liver_failure</th>\n",
       "      <th>altered_sensorium</th>\n",
       "      <th>anxiety</th>\n",
       "      <th>back_pain</th>\n",
       "      <th>belly_pain</th>\n",
       "      <th>blackheads</th>\n",
       "      <th>...</th>\n",
       "      <th>watering_from_eyes</th>\n",
       "      <th>weakness_in_limbs</th>\n",
       "      <th>weakness_of_one_body_side</th>\n",
       "      <th>weight_gain</th>\n",
       "      <th>weight_loss</th>\n",
       "      <th>yellow_crust_ooze</th>\n",
       "      <th>yellow_urine</th>\n",
       "      <th>yellowing_of_eyes</th>\n",
       "      <th>yellowish_skin</th>\n",
       "      <th>itching</th>\n",
       "    </tr>\n",
       "  </thead>\n",
       "  <tbody>\n",
       "    <tr>\n",
       "      <th>0</th>\n",
       "      <td>Fungal infection</td>\n",
       "      <td>0</td>\n",
       "      <td>0</td>\n",
       "      <td>0</td>\n",
       "      <td>0</td>\n",
       "      <td>0</td>\n",
       "      <td>0</td>\n",
       "      <td>0</td>\n",
       "      <td>0</td>\n",
       "      <td>0</td>\n",
       "      <td>...</td>\n",
       "      <td>0</td>\n",
       "      <td>0</td>\n",
       "      <td>0</td>\n",
       "      <td>0</td>\n",
       "      <td>0</td>\n",
       "      <td>0</td>\n",
       "      <td>0</td>\n",
       "      <td>0</td>\n",
       "      <td>0</td>\n",
       "      <td>1</td>\n",
       "    </tr>\n",
       "    <tr>\n",
       "      <th>1</th>\n",
       "      <td>Fungal infection</td>\n",
       "      <td>0</td>\n",
       "      <td>0</td>\n",
       "      <td>0</td>\n",
       "      <td>0</td>\n",
       "      <td>0</td>\n",
       "      <td>0</td>\n",
       "      <td>0</td>\n",
       "      <td>0</td>\n",
       "      <td>0</td>\n",
       "      <td>...</td>\n",
       "      <td>0</td>\n",
       "      <td>0</td>\n",
       "      <td>0</td>\n",
       "      <td>0</td>\n",
       "      <td>0</td>\n",
       "      <td>0</td>\n",
       "      <td>0</td>\n",
       "      <td>0</td>\n",
       "      <td>0</td>\n",
       "      <td>0</td>\n",
       "    </tr>\n",
       "    <tr>\n",
       "      <th>2</th>\n",
       "      <td>Fungal infection</td>\n",
       "      <td>0</td>\n",
       "      <td>0</td>\n",
       "      <td>0</td>\n",
       "      <td>0</td>\n",
       "      <td>0</td>\n",
       "      <td>0</td>\n",
       "      <td>0</td>\n",
       "      <td>0</td>\n",
       "      <td>0</td>\n",
       "      <td>...</td>\n",
       "      <td>0</td>\n",
       "      <td>0</td>\n",
       "      <td>0</td>\n",
       "      <td>0</td>\n",
       "      <td>0</td>\n",
       "      <td>0</td>\n",
       "      <td>0</td>\n",
       "      <td>0</td>\n",
       "      <td>0</td>\n",
       "      <td>1</td>\n",
       "    </tr>\n",
       "    <tr>\n",
       "      <th>3</th>\n",
       "      <td>Fungal infection</td>\n",
       "      <td>0</td>\n",
       "      <td>0</td>\n",
       "      <td>0</td>\n",
       "      <td>0</td>\n",
       "      <td>0</td>\n",
       "      <td>0</td>\n",
       "      <td>0</td>\n",
       "      <td>0</td>\n",
       "      <td>0</td>\n",
       "      <td>...</td>\n",
       "      <td>0</td>\n",
       "      <td>0</td>\n",
       "      <td>0</td>\n",
       "      <td>0</td>\n",
       "      <td>0</td>\n",
       "      <td>0</td>\n",
       "      <td>0</td>\n",
       "      <td>0</td>\n",
       "      <td>0</td>\n",
       "      <td>1</td>\n",
       "    </tr>\n",
       "    <tr>\n",
       "      <th>4</th>\n",
       "      <td>Fungal infection</td>\n",
       "      <td>0</td>\n",
       "      <td>0</td>\n",
       "      <td>0</td>\n",
       "      <td>0</td>\n",
       "      <td>0</td>\n",
       "      <td>0</td>\n",
       "      <td>0</td>\n",
       "      <td>0</td>\n",
       "      <td>0</td>\n",
       "      <td>...</td>\n",
       "      <td>0</td>\n",
       "      <td>0</td>\n",
       "      <td>0</td>\n",
       "      <td>0</td>\n",
       "      <td>0</td>\n",
       "      <td>0</td>\n",
       "      <td>0</td>\n",
       "      <td>0</td>\n",
       "      <td>0</td>\n",
       "      <td>1</td>\n",
       "    </tr>\n",
       "  </tbody>\n",
       "</table>\n",
       "<p>5 rows × 132 columns</p>\n",
       "</div>"
      ],
      "text/plain": [
       "            Disease   abdominal_pain   abnormal_menstruation   acidity  \\\n",
       "0  Fungal infection                0                       0         0   \n",
       "1  Fungal infection                0                       0         0   \n",
       "2  Fungal infection                0                       0         0   \n",
       "3  Fungal infection                0                       0         0   \n",
       "4  Fungal infection                0                       0         0   \n",
       "\n",
       "    acute_liver_failure   altered_sensorium   anxiety   back_pain  \\\n",
       "0                     0                   0         0           0   \n",
       "1                     0                   0         0           0   \n",
       "2                     0                   0         0           0   \n",
       "3                     0                   0         0           0   \n",
       "4                     0                   0         0           0   \n",
       "\n",
       "    belly_pain   blackheads  ...   watering_from_eyes   weakness_in_limbs  \\\n",
       "0            0            0  ...                    0                   0   \n",
       "1            0            0  ...                    0                   0   \n",
       "2            0            0  ...                    0                   0   \n",
       "3            0            0  ...                    0                   0   \n",
       "4            0            0  ...                    0                   0   \n",
       "\n",
       "    weakness_of_one_body_side   weight_gain   weight_loss   yellow_crust_ooze  \\\n",
       "0                           0             0             0                   0   \n",
       "1                           0             0             0                   0   \n",
       "2                           0             0             0                   0   \n",
       "3                           0             0             0                   0   \n",
       "4                           0             0             0                   0   \n",
       "\n",
       "    yellow_urine   yellowing_of_eyes   yellowish_skin  itching  \n",
       "0              0                   0                0        1  \n",
       "1              0                   0                0        0  \n",
       "2              0                   0                0        1  \n",
       "3              0                   0                0        1  \n",
       "4              0                   0                0        1  \n",
       "\n",
       "[5 rows x 132 columns]"
      ]
     },
     "execution_count": 10,
     "metadata": {},
     "output_type": "execute_result"
    }
   ],
   "source": [
    "df_final.head()"
   ]
  },
  {
   "cell_type": "code",
   "execution_count": 11,
   "id": "2821a51f",
   "metadata": {
    "scrolled": true
   },
   "outputs": [
    {
     "name": "stdout",
     "output_type": "stream",
     "text": [
      "              Disease   abdominal_pain   abnormal_menstruation   acidity  \\\n",
      "0    Fungal infection                0                       0         0   \n",
      "1    Fungal infection                0                       0         0   \n",
      "2    Fungal infection                0                       0         0   \n",
      "3    Fungal infection                0                       0         0   \n",
      "4    Fungal infection                0                       0         0   \n",
      "..                ...              ...                     ...       ...   \n",
      "299          Impetigo                0                       0         0   \n",
      "300          Impetigo                0                       0         0   \n",
      "301          Impetigo                0                       0         0   \n",
      "302          Impetigo                0                       0         0   \n",
      "303          Impetigo                0                       0         0   \n",
      "\n",
      "      acute_liver_failure   altered_sensorium   anxiety   back_pain  \\\n",
      "0                       0                   0         0           0   \n",
      "1                       0                   0         0           0   \n",
      "2                       0                   0         0           0   \n",
      "3                       0                   0         0           0   \n",
      "4                       0                   0         0           0   \n",
      "..                    ...                 ...       ...         ...   \n",
      "299                     0                   0         0           0   \n",
      "300                     0                   0         0           0   \n",
      "301                     0                   0         0           0   \n",
      "302                     0                   0         0           0   \n",
      "303                     0                   0         0           0   \n",
      "\n",
      "      belly_pain   blackheads  ...   watering_from_eyes   weakness_in_limbs  \\\n",
      "0              0            0  ...                    0                   0   \n",
      "1              0            0  ...                    0                   0   \n",
      "2              0            0  ...                    0                   0   \n",
      "3              0            0  ...                    0                   0   \n",
      "4              0            0  ...                    0                   0   \n",
      "..           ...          ...  ...                  ...                 ...   \n",
      "299            0            0  ...                    0                   0   \n",
      "300            0            0  ...                    0                   0   \n",
      "301            0            0  ...                    0                   0   \n",
      "302            0            0  ...                    0                   0   \n",
      "303            0            0  ...                    0                   0   \n",
      "\n",
      "      weakness_of_one_body_side   weight_gain   weight_loss  \\\n",
      "0                             0             0             0   \n",
      "1                             0             0             0   \n",
      "2                             0             0             0   \n",
      "3                             0             0             0   \n",
      "4                             0             0             0   \n",
      "..                          ...           ...           ...   \n",
      "299                           0             0             0   \n",
      "300                           0             0             0   \n",
      "301                           0             0             0   \n",
      "302                           0             0             0   \n",
      "303                           0             0             0   \n",
      "\n",
      "      yellow_crust_ooze   yellow_urine   yellowing_of_eyes   yellowish_skin  \\\n",
      "0                     0              0                   0                0   \n",
      "1                     0              0                   0                0   \n",
      "2                     0              0                   0                0   \n",
      "3                     0              0                   0                0   \n",
      "4                     0              0                   0                0   \n",
      "..                  ...            ...                 ...              ...   \n",
      "299                   1              0                   0                0   \n",
      "300                   1              0                   0                0   \n",
      "301                   1              0                   0                0   \n",
      "302                   1              0                   0                0   \n",
      "303                   0              0                   0                0   \n",
      "\n",
      "     itching  \n",
      "0          1  \n",
      "1          0  \n",
      "2          1  \n",
      "3          1  \n",
      "4          1  \n",
      "..       ...  \n",
      "299        0  \n",
      "300        0  \n",
      "301        0  \n",
      "302        0  \n",
      "303        0  \n",
      "\n",
      "[304 rows x 132 columns]\n"
     ]
    }
   ],
   "source": [
    "# Find unique patterns\n",
    "unique_patterns = df_final.drop_duplicates()\n",
    "\n",
    "# Reset the index\n",
    "unique_patterns.reset_index(drop=True, inplace=True)\n",
    "\n",
    "# Display the resulting DataFrame\n",
    "print(unique_patterns)"
   ]
  },
  {
   "cell_type": "code",
   "execution_count": 12,
   "id": "1c44297e",
   "metadata": {},
   "outputs": [],
   "source": [
    "unique_patterns.to_csv('unique_patterns.csv', index=False)"
   ]
  },
  {
   "cell_type": "markdown",
   "id": "c5cfb488-9f03-460f-85a4-c0545810efb5",
   "metadata": {},
   "source": [
    "## Explore"
   ]
  },
  {
   "cell_type": "markdown",
   "id": "ef27751b-e875-4ff7-8159-3325ce0a2788",
   "metadata": {},
   "source": [
    "### Data Splitting for Training, Validation, and Testing\n",
    "\n",
    "To evaluate the performance of our machine learning models, we split our dataset into three subsets:\n",
    "\n",
    "1. **Training set (60%)**\n",
    "2. **Validation set (20%)**\n",
    "3. **Test set (20%)**"
   ]
  },
  {
   "cell_type": "code",
   "execution_count": null,
   "id": "a25dabba-0971-436f-ac84-524c8ba63f8e",
   "metadata": {},
   "outputs": [],
   "source": [
    "# Split the data into training (60%) and a temporary set (40%), ensuring class distribution remains consistent using stratification\n",
    "train, temp = train_test_split(df_final, test_size=0.4, stratify=df_final['Disease'], random_state=42)\n",
    "\n",
    "# Split the temporary set into validation (20%) and test sets (20%) with stratification\n",
    "val, test = train_test_split(temp, test_size=0.5, stratify=temp['Disease'], random_state=42)\n",
    "\n",
    "# Print the shapes of the train, validation, and test sets\n",
    "train.shape, val.shape, test.shape"
   ]
  },
  {
   "cell_type": "markdown",
   "id": "b08ad2e6-ebf7-4613-9144-4fc50a90e569",
   "metadata": {},
   "source": [
    "## What is the distribution of diseases in the dataset?"
   ]
  },
  {
   "cell_type": "markdown",
   "id": "da04e33a-93d7-4acd-8e79-2916e5528672",
   "metadata": {},
   "source": [
    "#### Visualizing the Distribution of the Most Frequent Diseases in Training Data"
   ]
  },
  {
   "cell_type": "code",
   "execution_count": null,
   "id": "c3009cc4-e81e-460c-8b4b-c613ce50d9d7",
   "metadata": {},
   "outputs": [],
   "source": [
    "disease_counts = train['Disease'].value_counts().head(20)\n",
    "disease_counts.plot(kind='barh', figsize=(12, 6))\n",
    "plt.title(\"Disease Count\")\n",
    "plt.ylabel(\"Count\")\n",
    "plt.xlabel(\"Disease\")\n",
    "plt.show()"
   ]
  },
  {
   "cell_type": "markdown",
   "id": "6c6a22d5-1d41-4bc1-b2f0-cfa6703af5fd",
   "metadata": {},
   "source": [
    "### Top 20 Symptom Frequency Bar Chart"
   ]
  },
  {
   "cell_type": "code",
   "execution_count": null,
   "id": "8e87005e-07db-42b4-90cf-508fed33cbdb",
   "metadata": {},
   "outputs": [],
   "source": [
    "# Exclude 'Disease' column and sum occurrences of each symptom, excluding NaN values\n",
    "symptom_counts = df_final.drop(columns='Disease').apply(lambda x: x.value_counts().get(1, 0))\n",
    "\n",
    "# Plot the top 20 symptoms based on their frequency\n",
    "plt.figure(figsize=(10, 6))\n",
    "symptom_counts.sort_values(ascending=True).tail(20).plot(kind='barh')\n",
    "plt.title(\"Symptom Frequency\")\n",
    "plt.xlabel(\"Frequency\")\n",
    "plt.ylabel(\"Symptoms\")\n",
    "plt.show()"
   ]
  },
  {
   "cell_type": "markdown",
   "id": "50cc850e-0cdc-49bd-8240-3cfe0bdaf37a",
   "metadata": {},
   "source": [
    "### Top 20 Symptom Frequency Bar Chart Insights:\n",
    "\n",
    "1. **Dominant Symptoms**: The most prevalent symptom in the dataset is \"fever\". This suggests that fever is a common symptom across a variety of diseases or conditions.\n",
    "  \n",
    "2. **Common Ailments**: Symptoms like \"cough\", \"headache\", and \"fatigue\" are also frequently mentioned, indicating that respiratory and general malaise symptoms are prevalent in the dataset.\n",
    "  \n",
    "3. **Specific Indicators**: The presence of more specific symptoms like \"jaundice\" (yellowing of the skin or eyes) suggests the dataset may contain descriptions of diseases that affect the liver or bile production.\n",
    "  \n",
    "4. **Digestive Issues**: With \"vomiting\" and \"diarrhea\" ranking high on the chart, gastrointestinal symptoms seem to be a significant concern in the diseases or conditions represented.\n",
    "  \n",
    "5. **Variety of Symptoms**: The wide range of symptoms, from general (like \"pain\") to specific (like \"rash\"), indicates a comprehensive dataset that encompasses a variety of ailments and diseases."
   ]
  },
  {
   "cell_type": "markdown",
   "id": "0b140d27-5b1d-40fd-9a97-01af7b27d71a",
   "metadata": {},
   "source": [
    "### Visualizing Symptom Frequency using Word Cloud"
   ]
  },
  {
   "cell_type": "code",
   "execution_count": null,
   "id": "616a3bf8-e96f-48b8-b242-185044b4a512",
   "metadata": {},
   "outputs": [],
   "source": [
    "# Generate the word cloud using the symptom counts\n",
    "wordcloud = WordCloud(width=800, height=400, background_color=\"white\").generate_from_frequencies(symptom_counts)\n",
    "\n",
    "# Plot the word cloud image\n",
    "plt.figure(figsize=(10, 6))\n",
    "plt.imshow(wordcloud, interpolation=\"bilinear\")\n",
    "plt.axis(\"off\")\n",
    "plt.show()"
   ]
  },
  {
   "cell_type": "markdown",
   "id": "20934f7e-1f2e-415d-80ab-8f78a417ba62",
   "metadata": {},
   "source": [
    "### N-GRAMS\n",
    "#### Extracting and Analyzing N-grams from Symptoms"
   ]
  },
  {
   "cell_type": "code",
   "execution_count": null,
   "id": "6c221aac-7c2b-41c3-8cdc-167fd68a6073",
   "metadata": {},
   "outputs": [],
   "source": [
    "# Drop the 'Disease' column and flatten the DataFrame to get a list of all symptom words\n",
    "all_symptoms = df.drop(columns=['Disease']).values.flatten()\n",
    "\n",
    "# Convert all values to strings and filter out the string representation of NaN (to clean the data)\n",
    "all_symptoms = [str(s) for s in all_symptoms if str(s) != 'nan' and str(s) != 'NaN']\n",
    "\n",
    "# Tokenize the symptoms: split each symptom at underscores to get individual words\n",
    "tokens = list(chain.from_iterable([symptom.split('_') for symptom in all_symptoms]))\n",
    "\n",
    "# Generate bi-grams (2 word combinations) and tri-grams (3 word combinations) from the token list\n",
    "bi_grams = list(ngrams(tokens, 2))\n",
    "tri_grams = list(ngrams(tokens, 3))\n",
    "\n",
    "# Count frequencies of each bi-gram and tri-gram to identify most common combinations\n",
    "bi_gram_counts = Counter(bi_grams)\n",
    "tri_gram_counts = Counter(tri_grams)"
   ]
  },
  {
   "cell_type": "markdown",
   "id": "52d535c6-a262-453c-89c9-e24dd0f1883e",
   "metadata": {},
   "source": [
    "### Bi-Grams\n",
    "#### Visualizing Top Bi-grams from Symptoms"
   ]
  },
  {
   "cell_type": "code",
   "execution_count": null,
   "id": "36d78a55-5984-408b-a5c5-afa21452ed83",
   "metadata": {},
   "outputs": [],
   "source": [
    "# Sort the bi_gram_counts dictionary by values (frequencies) in descending order and take top 20\n",
    "top_20_bi_grams = dict(sorted(bi_gram_counts.items(), key=lambda item: item[1], reverse=True)[:20])\n",
    "\n",
    "# Visualization of Top 20 Bi-grams\n",
    "plt.figure(figsize=(10, 5))\n",
    "plt.bar(['_'.join(bg) for bg in top_20_bi_grams.keys()], top_20_bi_grams.values())\n",
    "plt.xlabel('Bi-grams')\n",
    "plt.ylabel('Frequency')\n",
    "plt.xticks(rotation=45)\n",
    "plt.title('Top 20 Bi-gram Frequencies')\n",
    "plt.tight_layout()\n",
    "plt.show()"
   ]
  },
  {
   "cell_type": "markdown",
   "id": "5da31c7a-e01c-4b96-8183-fbdc29cc5db6",
   "metadata": {},
   "source": [
    "### Tri-Grams\n",
    "#### Visualizing Top Tri-grams from Symptoms"
   ]
  },
  {
   "cell_type": "code",
   "execution_count": null,
   "id": "7f5230fe-2a7a-4120-8d61-87a1a7e383ea",
   "metadata": {},
   "outputs": [],
   "source": [
    "# Sort the tri_gram_counts dictionary by values (frequencies) in descending order and take top 20\n",
    "top_20_tri_grams = dict(sorted(tri_gram_counts.items(), key=lambda item: item[1], reverse=True)[:20])\n",
    "\n",
    "# Visualization of Top 20 Tri-grams\n",
    "plt.figure(figsize=(10, 5))\n",
    "plt.bar(['_'.join(tg) for tg in top_20_tri_grams.keys()], top_20_tri_grams.values())\n",
    "plt.xlabel('Tri-grams')\n",
    "plt.ylabel('Frequency')\n",
    "plt.xticks(rotation=45)\n",
    "plt.title('Top 20 Tri-gram Frequencies')\n",
    "plt.tight_layout()\n",
    "plt.show()"
   ]
  },
  {
   "cell_type": "markdown",
   "id": "60081355-a822-4e34-a8aa-33fd9079b51a",
   "metadata": {},
   "source": [
    "## N-grams summary\n",
    "\n",
    "#### Bi-Grams (2-word combinations) Visualization:\n",
    "- **Insights**:\n",
    "  1. \"Loss of\" and \"high fever\" are the most frequently occurring bi-grams among the symptoms data.\n",
    "  2. \"Yellow eyes\", \"swollen lymph\", and \"rapid weight loss\" are among the top bi-grams but have a significantly lower occurrence compared to the top two.\n",
    "  3. Common symptoms like \"joint pain\", \"muscle pain\", and \"vomiting\" also appear as frequent bi-grams.\n",
    "  4. The visualized data provides insights into commonly co-occurring symptoms or descriptors of symptoms.\n",
    "\n",
    "#### Tri-Grams (3-word combinations) Visualization:\n",
    "- **Insights**:\n",
    "  1. \"Loss of appetite\" stands out as the most frequent tri-gram.\n",
    "  2. \"Eyes & yellowing\", \"high fever &\", and \"abdominal pain &\" are other top tri-grams but with lesser frequencies.\n",
    "  3. Tri-grams like \"swollen lymph nodes\", \"burned & blurry vision\", and \"vomiting & diarrhea\" provide insight into more detailed symptom descriptions or combinations of symptoms that often appear together.\n",
    "  4. This chart gives a more refined view of how symptoms are often described or how they co-occur in the data.\n",
    "\n",
    "### Summary:\n",
    "The exploration of bi-grams and tri-grams from the symptoms data provides a nuanced understanding of the most frequent symptom combinations or descriptors. While \"loss of appetite\" is a dominant symptom described using tri-grams, \"loss of\" and \"high fever\" are significant when looking at bi-grams. Recognizing these patterns can be valuable for healthcare professionals or researchers in understanding common symptom combinations or for developing health-related questionnaires or surveys."
   ]
  },
  {
   "cell_type": "markdown",
   "id": "d3e1d93a-fd81-4cd0-a294-a57549ee67c2",
   "metadata": {},
   "source": [
    "## Modeling"
   ]
  },
  {
   "cell_type": "markdown",
   "id": "3d744027-5b7e-41c7-9a5f-d5933c085ab8",
   "metadata": {},
   "source": [
    "#### Encoding the Diseases"
   ]
  },
  {
   "cell_type": "code",
   "execution_count": null,
   "id": "15a229c7-766e-4349-84b7-9fcba289fa3e",
   "metadata": {},
   "outputs": [],
   "source": [
    "# Initializing the Label Encoder\n",
    "disease_encoder = LabelEncoder()\n",
    "\n",
    "# Fitting the encoder on the 'Disease' column of the training data\n",
    "train['Disease_encoded'] = disease_encoder.fit_transform(train['Disease'])\n",
    "\n",
    "# Transforming the 'Disease' column of validation and test data using the fitted encoder\n",
    "val['Disease_encoded'] = disease_encoder.transform(val['Disease'])\n",
    "test['Disease_encoded'] = disease_encoder.transform(test['Disease'])"
   ]
  },
  {
   "cell_type": "markdown",
   "id": "1bfe5d78-4c66-49ae-9437-dc939decb436",
   "metadata": {},
   "source": [
    "# Encoding 'Disease'\n",
    "disease_encoder = LabelEncoder()\n",
    "df_final['Disease_encoded'] = disease_encoder.fit_transform(df_final['Disease'])"
   ]
  },
  {
   "cell_type": "code",
   "execution_count": null,
   "id": "d17b0c67-4677-48b5-b647-16605652f435",
   "metadata": {},
   "outputs": [],
   "source": [
    "train.head()"
   ]
  },
  {
   "cell_type": "markdown",
   "id": "9eec3ab7-465a-4c97-bd3d-e29cb97cd10e",
   "metadata": {},
   "source": [
    "#### Balancing Data:\n",
    "\n",
    "##### Balancing the classes in our datasets by upsampling the minority class."
   ]
  },
  {
   "cell_type": "code",
   "execution_count": null,
   "id": "44f94e18-1caf-4a90-aebe-a34da6501763",
   "metadata": {},
   "outputs": [],
   "source": [
    "def balance_data(data):\n",
    "    # Identify the majority class\n",
    "    majority_class = data['Disease_encoded'].value_counts().idxmax()\n",
    "    \n",
    "    # Separate majority and minority classes\n",
    "    data_majority = data[data.Disease_encoded == majority_class]\n",
    "    data_minority = data[data.Disease_encoded != majority_class]\n",
    "    \n",
    "    # Upsample minority class\n",
    "    data_minority_upsampled = resample(data_minority, \n",
    "                                       replace=True, \n",
    "                                       n_samples=len(data_majority),\n",
    "                                       random_state=42)\n",
    "    \n",
    "    # Combine majority class with upsampled minority class\n",
    "    data_balanced = pd.concat([data_majority, data_minority_upsampled])\n",
    "    \n",
    "    return data_balanced"
   ]
  },
  {
   "cell_type": "code",
   "execution_count": null,
   "id": "cd5875dd-407b-4cdb-bd9d-a8bbfc7be6f7",
   "metadata": {},
   "outputs": [],
   "source": [
    "# Apply the balancing function to the train, val, and test datasets\n",
    "train_balanced = balance_data(train)\n",
    "val_balanced = balance_data(val)\n",
    "test_balanced = balance_data(test)"
   ]
  },
  {
   "cell_type": "code",
   "execution_count": null,
   "id": "333eed94-1a7a-4af9-9282-7ddbe33ed5cb",
   "metadata": {},
   "outputs": [],
   "source": [
    "train_balanced.head()"
   ]
  },
  {
   "cell_type": "markdown",
   "id": "311f32a7-caf8-424a-bbd4-b2f09656d036",
   "metadata": {},
   "source": [
    "### Data split"
   ]
  },
  {
   "cell_type": "markdown",
   "id": "bdf8394a-e411-46f9-877a-754709c270e1",
   "metadata": {},
   "source": [
    "#### Splitting Data into Features and Targets\n",
    "\n",
    "##### Now that our datasets are balanced, we'll split each one into features and targets to prepare for modeling."
   ]
  },
  {
   "cell_type": "code",
   "execution_count": null,
   "id": "f2822132-5bc4-4b2c-8250-92a59729d95e",
   "metadata": {},
   "outputs": [],
   "source": [
    "# Splitting balanced train dataset\n",
    "X_train = train_balanced.drop(['Disease', 'Disease_encoded'], axis=1)\n",
    "y_train = train_balanced['Disease_encoded']\n",
    "\n",
    "# Splitting balanced validation dataset\n",
    "X_val = val_balanced.drop(['Disease', 'Disease_encoded'], axis=1)\n",
    "y_val = val_balanced['Disease_encoded']\n",
    "\n",
    "# Splitting balanced test dataset\n",
    "X_test = test_balanced.drop(['Disease', 'Disease_encoded'], axis=1)\n",
    "y_test = test_balanced['Disease_encoded']"
   ]
  },
  {
   "cell_type": "markdown",
   "id": "cd2c10ca-6682-4c7e-8c61-cd2b5769c2e6",
   "metadata": {},
   "source": [
    "X = df_balanced.drop(['Disease', 'Disease_encoded'], axis=1)\n",
    "y = df_balanced['Disease_encoded']\n",
    "X_train, X_temp, y_train, y_temp = train_test_split(X, y, test_size=0.2, random_state=42)\n",
    "X_val, X_test, y_val, y_test = train_test_split(X_temp, y_temp, test_size=0.2, random_state=42)"
   ]
  },
  {
   "cell_type": "markdown",
   "id": "8f7d890e-994d-4205-9c9f-246299a57229",
   "metadata": {},
   "source": [
    "### Classification Models"
   ]
  },
  {
   "cell_type": "markdown",
   "id": "c9a1de15-3994-47c3-9c91-9d992da85cd0",
   "metadata": {},
   "source": [
    "#### Baseline"
   ]
  },
  {
   "cell_type": "code",
   "execution_count": null,
   "id": "d46dbc2d-f4ab-4485-8e88-8cc7b20eedde",
   "metadata": {},
   "outputs": [],
   "source": [
    "# Baseline Model\n",
    "clf_baseline = DummyClassifier(strategy=\"most_frequent\", random_state=42)\n",
    "\n",
    "# Train the baseline on the training data\n",
    "clf_baseline.fit(X_train, y_train)\n",
    "\n",
    "# Predict on the validation set\n",
    "y_pred_baseline_val = clf_baseline.predict(X_val)\n",
    "\n",
    "# Compute accuracy on the validation set\n",
    "accuracy_baseline = accuracy_score(y_val, y_pred_baseline_val)\n",
    "print(f\"Baseline Accuracy: {accuracy_baseline:.4f}\")"
   ]
  },
  {
   "cell_type": "markdown",
   "id": "2e770730-d7df-4941-bb67-b5d3dce85cdc",
   "metadata": {},
   "source": [
    "\n",
    "clf_baseline.fit(X_train, y_train)\n",
    "y_pred_baseline = clf_baseline.predict(X_test)\n",
    "accuracy_baseline = accuracy_score(y_test, y_pred_baseline)\n",
    "accuracy_baseline"
   ]
  },
  {
   "cell_type": "code",
   "execution_count": null,
   "id": "4c68765f-9d65-42cb-980d-491dfc66c4ea",
   "metadata": {},
   "outputs": [],
   "source": [
    "X_train.head()"
   ]
  },
  {
   "cell_type": "markdown",
   "id": "ebb2d8ec-cfcd-4399-8081-08a33384938b",
   "metadata": {},
   "source": [
    "### RandomForest"
   ]
  },
  {
   "cell_type": "code",
   "execution_count": null,
   "id": "8269b2e4-a979-4f58-af3a-e4ccd84161fc",
   "metadata": {},
   "outputs": [],
   "source": [
    "clf = RandomForestClassifier(random_state=42)\n",
    "clf.fit(X_train, y_train)\n",
    "\n",
    "# Predicting and calculating accuracy on the training set\n",
    "y_pred_train = clf.predict(X_train)\n",
    "train_accuracy = accuracy_score(y_train, y_pred_train)\n",
    "print(f\"Training Accuracy (Random Forest): {train_accuracy:.4f}\")\n",
    "\n",
    "# Predicting and calculating accuracy on the validation set\n",
    "y_pred_val = clf.predict(X_val)\n",
    "val_accuracy = accuracy_score(y_val, y_pred_val)\n",
    "print(f\"Validation Accuracy (Random Forest): {val_accuracy:.4f}\")"
   ]
  },
  {
   "cell_type": "markdown",
   "id": "7dd57217-1bd0-41a3-8c18-043fb101dac8",
   "metadata": {},
   "source": [
    "### LogisticRegression"
   ]
  },
  {
   "cell_type": "code",
   "execution_count": null,
   "id": "0a18ea1e-5a9d-4396-9f3c-1805375e2ada",
   "metadata": {},
   "outputs": [],
   "source": [
    "# Logistic Regression\n",
    "clf_lr = LogisticRegression(max_iter=10000, random_state=42) # Increase max_iter for convergence\n",
    "clf_lr.fit(X_train, y_train)\n",
    "\n",
    "# Predicting and calculating accuracy on the training set\n",
    "y_pred_train_lr = clf_lr.predict(X_train)\n",
    "train_accuracy_lr = accuracy_score(y_train, y_pred_train_lr)\n",
    "print(f\"Training Accuracy (Logistic Regression): {train_accuracy_lr:.4f}\")\n",
    "\n",
    "# Predicting and calculating accuracy on the validation set\n",
    "y_pred_val_lr = clf_lr.predict(X_val)\n",
    "val_accuracy_lr = accuracy_score(y_val, y_pred_val_lr)\n",
    "print(f\"Validation Accuracy (Logistic Regression): {val_accuracy_lr:.4f}\")"
   ]
  },
  {
   "cell_type": "markdown",
   "id": "673d61de-5858-42ca-93ba-bce0018fbc12",
   "metadata": {},
   "source": [
    "### KNeighborsClassifier"
   ]
  },
  {
   "cell_type": "code",
   "execution_count": null,
   "id": "fa8842cd-ac7e-4b82-9a01-56ecf9e7da9b",
   "metadata": {},
   "outputs": [],
   "source": [
    "# KNN\n",
    "clf_knn = KNeighborsClassifier(n_neighbors=5)\n",
    "clf_knn.fit(X_train, y_train)\n",
    "\n",
    "# Predicting and calculating accuracy on the training set\n",
    "y_pred_train_knn = clf_knn.predict(X_train)\n",
    "train_accuracy_knn = accuracy_score(y_train, y_pred_train_knn)\n",
    "print(f\"Training Accuracy (KNN): {train_accuracy_knn:.4f}\")\n",
    "\n",
    "# Predicting and calculating accuracy on the validation set\n",
    "y_pred_val_knn = clf_knn.predict(X_val)\n",
    "val_accuracy_knn = accuracy_score(y_val, y_pred_val_knn)\n",
    "print(f\"Validation Accuracy (KNN): {val_accuracy_knn:.4f}\")"
   ]
  },
  {
   "cell_type": "markdown",
   "id": "dbfa9c16-bd97-4306-ab27-e1ebcb1d90b1",
   "metadata": {},
   "source": [
    "### Test"
   ]
  },
  {
   "cell_type": "code",
   "execution_count": null,
   "id": "d9fe7fe4-834c-4972-ba10-6ba59c4b983d",
   "metadata": {},
   "outputs": [],
   "source": [
    "clf = RandomForestClassifier(random_state=42)\n",
    "clf.fit(X_train, y_train)\n",
    "\n",
    "# Predicting and calculating accuracy on the validation set\n",
    "y_pred_test = clf.predict(X_test)\n",
    "test_accuracy = accuracy_score(y_test, y_pred_test)\n",
    "print(f\"Test Accuracy (Random Forest): {test_accuracy:.4f}\")"
   ]
  },
  {
   "cell_type": "code",
   "execution_count": null,
   "id": "80e304b9",
   "metadata": {},
   "outputs": [],
   "source": [
    "# Save the predictions to a CSV file\n",
    "prediction_df = pd.DataFrame({'Actual_Disease': y_test, 'Predicted_Disease': y_pred_test})\n",
    "prediction_df.to_csv('predictions.csv', index=False)\n",
    "\n",
    "# Save the test accuracy to a file (if needed)\n",
    "with open('test_accuracy.txt', 'w') as f:\n",
    "    f.write(f\"Test Accuracy (Random Forest): {test_accuracy:.4f}\")"
   ]
  },
  {
   "cell_type": "code",
   "execution_count": null,
   "id": "5d4070e6",
   "metadata": {},
   "outputs": [],
   "source": [
    "import pandas as pd\n",
    "\n",
    "# Read the prediction CSV file into a DataFrame\n",
    "prediction_df = pd.read_csv('predictions.csv')\n",
    "\n",
    "# Display the content of the DataFrame\n",
    "print(prediction_df)\n"
   ]
  },
  {
   "cell_type": "markdown",
   "id": "6743de6f-b1b0-4c89-ad10-07b61db4405a",
   "metadata": {},
   "source": [
    "### Modeling Conclusion\n",
    "\n",
    "The purpose of this modeling was to predict diseases based on the given symptoms. We evaluated several models, including Random Forest, Logistic Regression, and KNN, against a baseline model. Here's a summary of the results:\n",
    "\n",
    "- **Baseline Model**:\n",
    "  - Accuracy: 0.0208\n",
    "  \n",
    "  This low accuracy is expected since the baseline model predicts diseases based on the most frequent class without any true learning.\n",
    "\n",
    "- **Random Forest**:\n",
    "  - Training Accuracy: 1.0000\n",
    "  - Validation Accuracy: 0.9583\n",
    "  - Test Accuracy: 0.8958\n",
    "  \n",
    "  The Random Forest model performed remarkably well on the training dataset, achieving perfect accuracy. This indicates that it could potentially overfit to the training data. However, its high validation accuracy demonstrates that it generalizes fairly well to unseen data. The test accuracy further validates its robustness.\n",
    "\n",
    "- **Logistic Regression**:\n",
    "  - Training Accuracy: 1.0000\n",
    "  - Validation Accuracy: 0.9583\n",
    "  \n",
    "  Similar to the Random Forest model, the Logistic Regression model also showed perfect accuracy on the training data and impressive performance on the validation set. This suggests that the model might have identified clear linear boundaries among the features.\n",
    "\n",
    "- **KNN**:\n",
    "  - Training Accuracy: 0.8819\n",
    "  - Validation Accuracy: 0.3542\n",
    "  \n",
    "  The KNN model demonstrated satisfactory performance on the training data but showed a significant drop in accuracy on the validation set. This could imply that KNN isn't the best model for this type of data or the chosen hyperparameters are not optimal.\n",
    "\n",
    "**Final Thoughts**:\n",
    "The Random Forest and Logistic Regression models both achieved high accuracies on the validation set, indicating that they can be potential candidates for deployment. While both models achieved perfect training accuracy, which might suggest overfitting, their high validation accuracies counteract this concern. On the other hand, the KNN model might require further hyperparameter tuning or might not be suitable for this particular dataset.\n",
    "\n",
    "Given the test accuracy of 0.8958 for the Random Forest model, it seems to be the most promising model for predicting diseases based on symptoms. Future work can explore ensemble methods, additional feature engineering, or more complex models to improve upon these results."
   ]
  }
 ],
 "metadata": {
  "kernelspec": {
   "display_name": "Python 3 (ipykernel)",
   "language": "python",
   "name": "python3"
  },
  "language_info": {
   "codemirror_mode": {
    "name": "ipython",
    "version": 3
   },
   "file_extension": ".py",
   "mimetype": "text/x-python",
   "name": "python",
   "nbconvert_exporter": "python",
   "pygments_lexer": "ipython3",
   "version": "3.10.9"
  }
 },
 "nbformat": 4,
 "nbformat_minor": 5
}
