{
 "cells": [
  {
   "cell_type": "markdown",
   "id": "0e692098-c5d4-42ee-a075-5c529d5f321e",
   "metadata": {},
   "source": [
    "# Disease Symptoms Prediction Model"
   ]
  },
  {
   "cell_type": "markdown",
   "id": "69a68ee1-7409-4ba6-bac3-bade891744e0",
   "metadata": {},
   "source": [
    "## Introduction:\n",
    "\n",
    "The primary objective is to use the symptoms data to predict the associated disease using a classification model. By understanding the correlation between symptoms and diseases, healthcare professionals can make more informed decisions and provide timely intervention."
   ]
  },
  {
   "cell_type": "code",
   "execution_count": 1,
   "id": "50703e51-6b93-4685-aec6-ed6ebc796818",
   "metadata": {},
   "outputs": [],
   "source": [
    "import pandas as pd\n",
    "import numpy as np\n",
    "import matplotlib.pyplot as plt\n",
    "\n",
    "from sklearn.utils import resample\n",
    "from scipy.stats import chi2_contingency\n",
    "from sklearn.dummy import DummyClassifier\n",
    "from sklearn.metrics import accuracy_score\n",
    "from sklearn.preprocessing import LabelEncoder\n",
    "from sklearn.tree import DecisionTreeClassifier\n",
    "from sklearn.neighbors import KNeighborsClassifier\n",
    "from sklearn.linear_model import LogisticRegression\n",
    "from sklearn.ensemble import RandomForestClassifier\n",
    "from sklearn.model_selection import train_test_split"
   ]
  },
  {
   "cell_type": "markdown",
   "id": "dfe24c33-abc6-40bc-86de-a1b5529f8a21",
   "metadata": {},
   "source": [
    "## Acquire"
   ]
  },
  {
   "cell_type": "markdown",
   "id": "bcf24054-ae1c-44df-b253-3ab9b8b4cda4",
   "metadata": {},
   "source": [
    "### Dataset 1"
   ]
  },
  {
   "cell_type": "code",
   "execution_count": 2,
   "id": "102f5651-91b9-40bb-bbf2-9d916049baa2",
   "metadata": {},
   "outputs": [],
   "source": [
    "df = pd.read_csv('symptoms.csv', sep='\\t', header=None, names=['Disease', 'Symptom'], index_col=0)"
   ]
  },
  {
   "cell_type": "code",
   "execution_count": 3,
   "id": "c39f15cf-03ad-42c3-a0e4-37c3ccd88c3a",
   "metadata": {},
   "outputs": [
    {
     "data": {
      "text/html": [
       "<div>\n",
       "<style scoped>\n",
       "    .dataframe tbody tr th:only-of-type {\n",
       "        vertical-align: middle;\n",
       "    }\n",
       "\n",
       "    .dataframe tbody tr th {\n",
       "        vertical-align: top;\n",
       "    }\n",
       "\n",
       "    .dataframe thead th {\n",
       "        text-align: right;\n",
       "    }\n",
       "</style>\n",
       "<table border=\"1\" class=\"dataframe\">\n",
       "  <thead>\n",
       "    <tr style=\"text-align: right;\">\n",
       "      <th></th>\n",
       "      <th>Symptom</th>\n",
       "    </tr>\n",
       "    <tr>\n",
       "      <th>Disease</th>\n",
       "      <th></th>\n",
       "    </tr>\n",
       "  </thead>\n",
       "  <tbody>\n",
       "    <tr>\n",
       "      <th>hypertensive disease,pain chest</th>\n",
       "      <td>NaN</td>\n",
       "    </tr>\n",
       "    <tr>\n",
       "      <th>hypertensive disease,shortness of breath</th>\n",
       "      <td>NaN</td>\n",
       "    </tr>\n",
       "    <tr>\n",
       "      <th>hypertensive disease,dizziness</th>\n",
       "      <td>NaN</td>\n",
       "    </tr>\n",
       "    <tr>\n",
       "      <th>hypertensive disease,asthenia</th>\n",
       "      <td>NaN</td>\n",
       "    </tr>\n",
       "    <tr>\n",
       "      <th>hypertensive disease,fall</th>\n",
       "      <td>NaN</td>\n",
       "    </tr>\n",
       "  </tbody>\n",
       "</table>\n",
       "</div>"
      ],
      "text/plain": [
       "                                          Symptom\n",
       "Disease                                          \n",
       "hypertensive disease,pain chest               NaN\n",
       "hypertensive disease,shortness of breath      NaN\n",
       "hypertensive disease,dizziness                NaN\n",
       "hypertensive disease,asthenia                 NaN\n",
       "hypertensive disease,fall                     NaN"
      ]
     },
     "execution_count": 3,
     "metadata": {},
     "output_type": "execute_result"
    }
   ],
   "source": [
    "df.head()"
   ]
  },
  {
   "cell_type": "markdown",
   "id": "bb2ddfb9-275f-4565-9e97-ddf464efa11e",
   "metadata": {},
   "source": [
    "## Prepare:\n",
    "\n",
    "#### Dataset Structure:\n",
    "\n",
    "- **Rows**: 1866\n",
    "- **Columns**: 2\n",
    "- **Columns**: Disease, Symptom"
   ]
  },
  {
   "cell_type": "code",
   "execution_count": 4,
   "id": "b2ee1e73-9742-4476-a0a2-5128d6b2e92e",
   "metadata": {},
   "outputs": [
    {
     "data": {
      "text/html": [
       "<div>\n",
       "<style scoped>\n",
       "    .dataframe tbody tr th:only-of-type {\n",
       "        vertical-align: middle;\n",
       "    }\n",
       "\n",
       "    .dataframe tbody tr th {\n",
       "        vertical-align: top;\n",
       "    }\n",
       "\n",
       "    .dataframe thead th {\n",
       "        text-align: right;\n",
       "    }\n",
       "</style>\n",
       "<table border=\"1\" class=\"dataframe\">\n",
       "  <thead>\n",
       "    <tr style=\"text-align: right;\">\n",
       "      <th></th>\n",
       "      <th>Disease</th>\n",
       "      <th>Symptom</th>\n",
       "    </tr>\n",
       "  </thead>\n",
       "  <tbody>\n",
       "    <tr>\n",
       "      <th>0</th>\n",
       "      <td>hypertensive disease</td>\n",
       "      <td>pain chest</td>\n",
       "    </tr>\n",
       "    <tr>\n",
       "      <th>1</th>\n",
       "      <td>hypertensive disease</td>\n",
       "      <td>shortness of breath</td>\n",
       "    </tr>\n",
       "    <tr>\n",
       "      <th>2</th>\n",
       "      <td>hypertensive disease</td>\n",
       "      <td>dizziness</td>\n",
       "    </tr>\n",
       "    <tr>\n",
       "      <th>3</th>\n",
       "      <td>hypertensive disease</td>\n",
       "      <td>asthenia</td>\n",
       "    </tr>\n",
       "    <tr>\n",
       "      <th>4</th>\n",
       "      <td>hypertensive disease</td>\n",
       "      <td>fall</td>\n",
       "    </tr>\n",
       "  </tbody>\n",
       "</table>\n",
       "</div>"
      ],
      "text/plain": [
       "                Disease              Symptom\n",
       "0  hypertensive disease           pain chest\n",
       "1  hypertensive disease  shortness of breath\n",
       "2  hypertensive disease            dizziness\n",
       "3  hypertensive disease             asthenia\n",
       "4  hypertensive disease                 fall"
      ]
     },
     "execution_count": 4,
     "metadata": {},
     "output_type": "execute_result"
    }
   ],
   "source": [
    "# Split the index and create two new columns\n",
    "df['Disease'], df['Symptom'] = zip(*df.index.str.split(','))\n",
    "\n",
    "# Reset the index\n",
    "df.reset_index(drop=True, inplace=True)\n",
    "\n",
    "# Reorder columns\n",
    "df = df[['Disease', 'Symptom']]\n",
    "\n",
    "df.head()"
   ]
  },
  {
   "cell_type": "code",
   "execution_count": 5,
   "id": "c7f108f1-0981-4104-9082-b0117692b7ec",
   "metadata": {},
   "outputs": [
    {
     "data": {
      "text/plain": [
       "(1831, 2)"
      ]
     },
     "execution_count": 5,
     "metadata": {},
     "output_type": "execute_result"
    }
   ],
   "source": [
    "df = df.drop_duplicates(subset=['Disease', 'Symptom'])\n",
    "df.shape"
   ]
  },
  {
   "cell_type": "markdown",
   "id": "ea22b988-afc7-49e2-b1b7-0d060820c0b3",
   "metadata": {},
   "source": [
    "## Dataset 2"
   ]
  },
  {
   "cell_type": "code",
   "execution_count": 6,
   "id": "a43cd53e-e19d-400d-9e2e-623849a198dd",
   "metadata": {},
   "outputs": [],
   "source": [
    "df = pd.read_csv('dataset.csv')"
   ]
  },
  {
   "cell_type": "code",
   "execution_count": 7,
   "id": "e24fa691-4c4b-4b49-bef2-87de89e7c3b5",
   "metadata": {},
   "outputs": [
    {
     "data": {
      "text/html": [
       "<div>\n",
       "<style scoped>\n",
       "    .dataframe tbody tr th:only-of-type {\n",
       "        vertical-align: middle;\n",
       "    }\n",
       "\n",
       "    .dataframe tbody tr th {\n",
       "        vertical-align: top;\n",
       "    }\n",
       "\n",
       "    .dataframe thead th {\n",
       "        text-align: right;\n",
       "    }\n",
       "</style>\n",
       "<table border=\"1\" class=\"dataframe\">\n",
       "  <thead>\n",
       "    <tr style=\"text-align: right;\">\n",
       "      <th></th>\n",
       "      <th>Disease</th>\n",
       "      <th>Symptom_1</th>\n",
       "      <th>Symptom_2</th>\n",
       "      <th>Symptom_3</th>\n",
       "      <th>Symptom_4</th>\n",
       "      <th>Symptom_5</th>\n",
       "      <th>Symptom_6</th>\n",
       "      <th>Symptom_7</th>\n",
       "      <th>Symptom_8</th>\n",
       "      <th>Symptom_9</th>\n",
       "      <th>Symptom_10</th>\n",
       "      <th>Symptom_11</th>\n",
       "      <th>Symptom_12</th>\n",
       "      <th>Symptom_13</th>\n",
       "      <th>Symptom_14</th>\n",
       "      <th>Symptom_15</th>\n",
       "      <th>Symptom_16</th>\n",
       "      <th>Symptom_17</th>\n",
       "    </tr>\n",
       "  </thead>\n",
       "  <tbody>\n",
       "    <tr>\n",
       "      <th>0</th>\n",
       "      <td>Fungal infection</td>\n",
       "      <td>itching</td>\n",
       "      <td>skin_rash</td>\n",
       "      <td>nodal_skin_eruptions</td>\n",
       "      <td>dischromic _patches</td>\n",
       "      <td>NaN</td>\n",
       "      <td>NaN</td>\n",
       "      <td>NaN</td>\n",
       "      <td>NaN</td>\n",
       "      <td>NaN</td>\n",
       "      <td>NaN</td>\n",
       "      <td>NaN</td>\n",
       "      <td>NaN</td>\n",
       "      <td>NaN</td>\n",
       "      <td>NaN</td>\n",
       "      <td>NaN</td>\n",
       "      <td>NaN</td>\n",
       "      <td>NaN</td>\n",
       "    </tr>\n",
       "    <tr>\n",
       "      <th>1</th>\n",
       "      <td>Fungal infection</td>\n",
       "      <td>skin_rash</td>\n",
       "      <td>nodal_skin_eruptions</td>\n",
       "      <td>dischromic _patches</td>\n",
       "      <td>NaN</td>\n",
       "      <td>NaN</td>\n",
       "      <td>NaN</td>\n",
       "      <td>NaN</td>\n",
       "      <td>NaN</td>\n",
       "      <td>NaN</td>\n",
       "      <td>NaN</td>\n",
       "      <td>NaN</td>\n",
       "      <td>NaN</td>\n",
       "      <td>NaN</td>\n",
       "      <td>NaN</td>\n",
       "      <td>NaN</td>\n",
       "      <td>NaN</td>\n",
       "      <td>NaN</td>\n",
       "    </tr>\n",
       "    <tr>\n",
       "      <th>2</th>\n",
       "      <td>Fungal infection</td>\n",
       "      <td>itching</td>\n",
       "      <td>nodal_skin_eruptions</td>\n",
       "      <td>dischromic _patches</td>\n",
       "      <td>NaN</td>\n",
       "      <td>NaN</td>\n",
       "      <td>NaN</td>\n",
       "      <td>NaN</td>\n",
       "      <td>NaN</td>\n",
       "      <td>NaN</td>\n",
       "      <td>NaN</td>\n",
       "      <td>NaN</td>\n",
       "      <td>NaN</td>\n",
       "      <td>NaN</td>\n",
       "      <td>NaN</td>\n",
       "      <td>NaN</td>\n",
       "      <td>NaN</td>\n",
       "      <td>NaN</td>\n",
       "    </tr>\n",
       "    <tr>\n",
       "      <th>3</th>\n",
       "      <td>Fungal infection</td>\n",
       "      <td>itching</td>\n",
       "      <td>skin_rash</td>\n",
       "      <td>dischromic _patches</td>\n",
       "      <td>NaN</td>\n",
       "      <td>NaN</td>\n",
       "      <td>NaN</td>\n",
       "      <td>NaN</td>\n",
       "      <td>NaN</td>\n",
       "      <td>NaN</td>\n",
       "      <td>NaN</td>\n",
       "      <td>NaN</td>\n",
       "      <td>NaN</td>\n",
       "      <td>NaN</td>\n",
       "      <td>NaN</td>\n",
       "      <td>NaN</td>\n",
       "      <td>NaN</td>\n",
       "      <td>NaN</td>\n",
       "    </tr>\n",
       "    <tr>\n",
       "      <th>4</th>\n",
       "      <td>Fungal infection</td>\n",
       "      <td>itching</td>\n",
       "      <td>skin_rash</td>\n",
       "      <td>nodal_skin_eruptions</td>\n",
       "      <td>NaN</td>\n",
       "      <td>NaN</td>\n",
       "      <td>NaN</td>\n",
       "      <td>NaN</td>\n",
       "      <td>NaN</td>\n",
       "      <td>NaN</td>\n",
       "      <td>NaN</td>\n",
       "      <td>NaN</td>\n",
       "      <td>NaN</td>\n",
       "      <td>NaN</td>\n",
       "      <td>NaN</td>\n",
       "      <td>NaN</td>\n",
       "      <td>NaN</td>\n",
       "      <td>NaN</td>\n",
       "    </tr>\n",
       "  </tbody>\n",
       "</table>\n",
       "</div>"
      ],
      "text/plain": [
       "            Disease   Symptom_1              Symptom_2              Symptom_3  \\\n",
       "0  Fungal infection     itching              skin_rash   nodal_skin_eruptions   \n",
       "1  Fungal infection   skin_rash   nodal_skin_eruptions    dischromic _patches   \n",
       "2  Fungal infection     itching   nodal_skin_eruptions    dischromic _patches   \n",
       "3  Fungal infection     itching              skin_rash    dischromic _patches   \n",
       "4  Fungal infection     itching              skin_rash   nodal_skin_eruptions   \n",
       "\n",
       "              Symptom_4 Symptom_5 Symptom_6 Symptom_7 Symptom_8 Symptom_9  \\\n",
       "0   dischromic _patches       NaN       NaN       NaN       NaN       NaN   \n",
       "1                   NaN       NaN       NaN       NaN       NaN       NaN   \n",
       "2                   NaN       NaN       NaN       NaN       NaN       NaN   \n",
       "3                   NaN       NaN       NaN       NaN       NaN       NaN   \n",
       "4                   NaN       NaN       NaN       NaN       NaN       NaN   \n",
       "\n",
       "  Symptom_10 Symptom_11 Symptom_12 Symptom_13 Symptom_14 Symptom_15  \\\n",
       "0        NaN        NaN        NaN        NaN        NaN        NaN   \n",
       "1        NaN        NaN        NaN        NaN        NaN        NaN   \n",
       "2        NaN        NaN        NaN        NaN        NaN        NaN   \n",
       "3        NaN        NaN        NaN        NaN        NaN        NaN   \n",
       "4        NaN        NaN        NaN        NaN        NaN        NaN   \n",
       "\n",
       "  Symptom_16 Symptom_17  \n",
       "0        NaN        NaN  \n",
       "1        NaN        NaN  \n",
       "2        NaN        NaN  \n",
       "3        NaN        NaN  \n",
       "4        NaN        NaN  "
      ]
     },
     "execution_count": 7,
     "metadata": {},
     "output_type": "execute_result"
    }
   ],
   "source": [
    "df.head()"
   ]
  },
  {
   "cell_type": "code",
   "execution_count": 8,
   "id": "333f9cd7-09e7-4830-a640-e581c4030312",
   "metadata": {},
   "outputs": [
    {
     "data": {
      "text/html": [
       "<div>\n",
       "<style scoped>\n",
       "    .dataframe tbody tr th:only-of-type {\n",
       "        vertical-align: middle;\n",
       "    }\n",
       "\n",
       "    .dataframe tbody tr th {\n",
       "        vertical-align: top;\n",
       "    }\n",
       "\n",
       "    .dataframe thead th {\n",
       "        text-align: right;\n",
       "    }\n",
       "</style>\n",
       "<table border=\"1\" class=\"dataframe\">\n",
       "  <thead>\n",
       "    <tr style=\"text-align: right;\">\n",
       "      <th></th>\n",
       "      <th>Disease</th>\n",
       "      <th>Symptom</th>\n",
       "    </tr>\n",
       "  </thead>\n",
       "  <tbody>\n",
       "    <tr>\n",
       "      <th>0</th>\n",
       "      <td>Fungal infection</td>\n",
       "      <td>itching</td>\n",
       "    </tr>\n",
       "    <tr>\n",
       "      <th>1</th>\n",
       "      <td>Fungal infection</td>\n",
       "      <td>skin_rash</td>\n",
       "    </tr>\n",
       "    <tr>\n",
       "      <th>2</th>\n",
       "      <td>Fungal infection</td>\n",
       "      <td>itching</td>\n",
       "    </tr>\n",
       "    <tr>\n",
       "      <th>3</th>\n",
       "      <td>Fungal infection</td>\n",
       "      <td>itching</td>\n",
       "    </tr>\n",
       "    <tr>\n",
       "      <th>4</th>\n",
       "      <td>Fungal infection</td>\n",
       "      <td>itching</td>\n",
       "    </tr>\n",
       "  </tbody>\n",
       "</table>\n",
       "</div>"
      ],
      "text/plain": [
       "            Disease     Symptom\n",
       "0  Fungal infection     itching\n",
       "1  Fungal infection   skin_rash\n",
       "2  Fungal infection     itching\n",
       "3  Fungal infection     itching\n",
       "4  Fungal infection     itching"
      ]
     },
     "execution_count": 8,
     "metadata": {},
     "output_type": "execute_result"
    }
   ],
   "source": [
    "# Melt the dataframe\n",
    "df = df.melt(id_vars=['Disease'], value_name='Symptom')\n",
    "\n",
    "# Remove rows with NaN values in the Symptom column\n",
    "df.dropna(subset=['Symptom'], inplace=True)\n",
    "\n",
    "# Drop the variable column as it's not needed\n",
    "df.drop(columns=['variable'], inplace=True)\n",
    "df.head()"
   ]
  },
  {
   "cell_type": "markdown",
   "id": "c5cfb488-9f03-460f-85a4-c0545810efb5",
   "metadata": {},
   "source": [
    "## Explore"
   ]
  },
  {
   "cell_type": "code",
   "execution_count": 9,
   "id": "8a902527-8926-46ca-8afc-1f7a88b2b371",
   "metadata": {},
   "outputs": [
    {
     "data": {
      "text/plain": [
       "((25653, 2), (5497, 2), (5498, 2))"
      ]
     },
     "execution_count": 9,
     "metadata": {},
     "output_type": "execute_result"
    }
   ],
   "source": [
    "# Split the data into training, validation, and testing sets\n",
    "# First, we split the data into training (60%) and temporary (40%)\n",
    "train, temp = train_test_split(df, test_size=0.3, random_state=42)\n",
    "\n",
    "# Now, split the temporary set into validation (20%) and test sets (20%)\n",
    "val, test = train_test_split(temp, test_size=0.5, random_state=42)\n",
    "train.shape, val.shape, test.shape"
   ]
  },
  {
   "cell_type": "markdown",
   "id": "b08ad2e6-ebf7-4613-9144-4fc50a90e569",
   "metadata": {},
   "source": [
    "**Question 1:** What is the distribution of diseases in the dataset?\n",
    "\n",
    "**Visualization:** Create a bar plot of the disease occurrences."
   ]
  },
  {
   "cell_type": "code",
   "execution_count": 10,
   "id": "c3009cc4-e81e-460c-8b4b-c613ce50d9d7",
   "metadata": {},
   "outputs": [
    {
     "data": {
      "image/png": "[encoded data removed]",
      "text/plain": [
       "<Figure size 1000x800 with 1 Axes>"
      ]
     },
     "metadata": {},
     "output_type": "display_data"
    }
   ],
   "source": [
    "# Visualization - Bar Plot for Disease Distribution\n",
    "plt.figure(figsize=(10, 8))\n",
    "df['Disease'].value_counts().head(10).plot(kind='bar', color='skyblue')  # Displaying top 10 diseases for clarity\n",
    "plt.title('Top 10 Diseases Distribution')\n",
    "plt.xlabel('Disease')\n",
    "plt.ylabel('Occurrences')\n",
    "plt.xticks(rotation=45)\n",
    "plt.show()"
   ]
  },
  {
   "cell_type": "markdown",
   "id": "6e0646be-dd5e-49e5-9800-cace8458f1c1",
   "metadata": {},
   "source": [
    "**Question 2:** Which symptoms are most common across all diseases?\n",
    "\n",
    "**Visualization:** Create a bar plot of the most common symptoms."
   ]
  },
  {
   "cell_type": "code",
   "execution_count": 11,
   "id": "87ab3b7e-10b3-4fe9-aee2-2d58e955d089",
   "metadata": {},
   "outputs": [
    {
     "data": {
      "image/png": "[encoded data removed]",
      "text/plain": [
       "<Figure size 1000x800 with 1 Axes>"
      ]
     },
     "metadata": {},
     "output_type": "display_data"
    }
   ],
   "source": [
    "# Visualization - Bar Plot for Symptoms Distribution\n",
    "plt.figure(figsize=(10, 8))\n",
    "df['Symptom'].value_counts().head(10).plot(kind='bar', color='lightgreen')\n",
    "plt.title('Top 10 Most Common Symptoms')\n",
    "plt.xlabel('Symptom')\n",
    "plt.ylabel('Occurrences')\n",
    "plt.xticks(rotation=45)\n",
    "plt.show()"
   ]
  },
  {
   "cell_type": "markdown",
   "id": "19a24388-22a9-43c6-bad0-175bde28b4e3",
   "metadata": {},
   "source": [
    "**Question 3:** For a specific disease (e.g., hypertensive disease), what are the most commonly reported symptoms?\n",
    "\n",
    "**Visualization:** Create a bar plot of the most common symptoms for the chosen disease."
   ]
  },
  {
   "cell_type": "markdown",
   "id": "1d907597-1823-44a2-9c61-e7f0f5705ffe",
   "metadata": {},
   "source": [
    "# Filtering data for hypertensive disease\n",
    "disease_specific = df[df['Disease'] == 'hypertensive disease']\n",
    "\n",
    "# Visualization - Bar Plot for Symptoms of the hypertensive disease\n",
    "plt.figure(figsize=(10, 8))\n",
    "disease_specific['Symptom'].value_counts().plot(kind='bar', color='salmon')\n",
    "plt.title('Symptoms for Hypertensive Disease')\n",
    "plt.xlabel('Symptom')\n",
    "plt.ylabel('Occurrences')\n",
    "plt.xticks(rotation=45)\n",
    "plt.show()"
   ]
  },
  {
   "cell_type": "code",
   "execution_count": 12,
   "id": "0cd62274-8b70-4e57-97c2-fa0b2ff1dbe1",
   "metadata": {},
   "outputs": [],
   "source": [
    "# Label Encoding\n",
    "label_encoders = {}\n",
    "\n",
    "# Encoding 'Disease'\n",
    "disease_encoder = LabelEncoder()\n",
    "df['Disease_encoded'] = disease_encoder.fit_transform(df['Disease'])\n",
    "label_encoders['Disease'] = disease_encoder"
   ]
  },
  {
   "cell_type": "code",
   "execution_count": 13,
   "id": "077bc156-c803-4db2-984f-633de57d9061",
   "metadata": {},
   "outputs": [],
   "source": [
    "# Encoding 'Symptom'\n",
    "symptom_encoder = LabelEncoder()\n",
    "df['Symptom_encoded'] = symptom_encoder.fit_transform(df['Symptom'])\n",
    "label_encoders['Symptom'] = symptom_encoder\n",
    "\n",
    "# Checking distribution of 'Disease' for balancing\n",
    "disease_counts = df['Disease_encoded'].value_counts()"
   ]
  },
  {
   "cell_type": "code",
   "execution_count": 14,
   "id": "422d2f7f-1180-4301-9873-cb822aafce30",
   "metadata": {},
   "outputs": [],
   "source": [
    "# Identify the majority class\n",
    "majority_class = disease_counts.idxmax()\n",
    "\n",
    "# Separate majority and minority classes\n",
    "df_majority = df[df.Disease_encoded == majority_class]\n",
    "df_minority = df[df.Disease_encoded != majority_class]"
   ]
  },
  {
   "cell_type": "code",
   "execution_count": 15,
   "id": "af3c592f-f4af-4d2b-8943-85bc60781346",
   "metadata": {},
   "outputs": [
    {
     "name": "stdout",
     "output_type": "stream",
     "text": [
      "Disease_encoded\n",
      "10    1992\n",
      "36     107\n",
      "25     100\n",
      "11      95\n",
      "19      94\n",
      "22      89\n",
      "26      87\n",
      "8       72\n",
      "37      71\n",
      "30      68\n",
      "24      66\n",
      "21      65\n",
      "40      63\n",
      "28      63\n",
      "12      61\n",
      "34      58\n",
      "29      51\n",
      "0       49\n",
      "9       47\n",
      "35      47\n",
      "3       47\n",
      "6       40\n",
      "31      40\n",
      "39      39\n",
      "33      35\n",
      "20      35\n",
      "23      33\n",
      "15      31\n",
      "7       31\n",
      "2       31\n",
      "18      29\n",
      "13      29\n",
      "27      29\n",
      "14      25\n",
      "16      25\n",
      "4       25\n",
      "5       25\n",
      "38      24\n",
      "32      24\n",
      "17      23\n",
      "1       19\n",
      "Name: count, dtype: int64\n"
     ]
    }
   ],
   "source": [
    "# Upsample minority class\n",
    "df_minority_upsampled = resample(df_minority, \n",
    "                                 replace=True, \n",
    "                                 n_samples=disease_counts[majority_class],\n",
    "                                 random_state=42) \n",
    "\n",
    "# Combine majority class with upsampled minority class\n",
    "df_balanced = pd.concat([df_majority, df_minority_upsampled])\n",
    "\n",
    "# Display the balanced dataset distribution\n",
    "print(df_balanced['Disease_encoded'].value_counts())"
   ]
  },
  {
   "cell_type": "code",
   "execution_count": 16,
   "id": "d9cb8560-03bb-4191-a901-8f62136e5e5f",
   "metadata": {},
   "outputs": [],
   "source": [
    "# Identify the majority class count\n",
    "majority_count = df['Disease_encoded'].value_counts().max()"
   ]
  },
  {
   "cell_type": "code",
   "execution_count": 17,
   "id": "dbc7eb52-8f0c-4a10-accf-4a109cd58b07",
   "metadata": {},
   "outputs": [],
   "source": [
    "# Separate data by Disease_encoded and upsample each minority class\n",
    "dfs = []\n",
    "for disease_code in df['Disease_encoded'].unique():\n",
    "    disease_df = df[df['Disease_encoded'] == disease_code]\n",
    "    resampled_df = resample(disease_df, \n",
    "                            replace=True, \n",
    "                            n_samples=majority_count, \n",
    "                            random_state=42)\n",
    "    dfs.append(resampled_df)"
   ]
  },
  {
   "cell_type": "code",
   "execution_count": 18,
   "id": "96f84d84-286a-48a9-90f9-7b1c59122703",
   "metadata": {},
   "outputs": [
    {
     "name": "stdout",
     "output_type": "stream",
     "text": [
      "Disease_encoded\n",
      "15    1992\n",
      "20    1992\n",
      "22    1992\n",
      "3     1992\n",
      "36    1992\n",
      "10    1992\n",
      "34    1992\n",
      "13    1992\n",
      "18    1992\n",
      "39    1992\n",
      "26    1992\n",
      "24    1992\n",
      "25    1992\n",
      "31    1992\n",
      "5     1992\n",
      "0     1992\n",
      "2     1992\n",
      "38    1992\n",
      "35    1992\n",
      "21    1992\n",
      "19    1992\n",
      "4     1992\n",
      "40    1992\n",
      "16    1992\n",
      "9     1992\n",
      "14    1992\n",
      "33    1992\n",
      "1     1992\n",
      "12    1992\n",
      "17    1992\n",
      "6     1992\n",
      "23    1992\n",
      "30    1992\n",
      "7     1992\n",
      "32    1992\n",
      "28    1992\n",
      "29    1992\n",
      "8     1992\n",
      "11    1992\n",
      "37    1992\n",
      "27    1992\n",
      "Name: count, dtype: int64\n"
     ]
    }
   ],
   "source": [
    "# Concatenate the upsampled dfs\n",
    "df_balanced = pd.concat(dfs)\n",
    "\n",
    "# Display the balanced dataset distribution\n",
    "print(df_balanced['Disease_encoded'].value_counts())"
   ]
  },
  {
   "cell_type": "markdown",
   "id": "d3e1d93a-fd81-4cd0-a294-a57549ee67c2",
   "metadata": {},
   "source": [
    "## Modeling"
   ]
  },
  {
   "cell_type": "code",
   "execution_count": 19,
   "id": "44056d1b-cc7b-4f05-8adf-963d129c3866",
   "metadata": {},
   "outputs": [],
   "source": [
    "# Encode the 'Symptom' column\n",
    "encoder_symptom = LabelEncoder()\n",
    "df['Symptom_encoded'] = encoder_symptom.fit_transform(df['Symptom'])\n",
    "\n",
    "# Splitting the data again\n",
    "X = df.drop(['Disease', 'Symptom', 'Disease_encoded'], axis=1)  # Using only 'Symptom_encoded' as features\n",
    "y = df['Disease_encoded']\n",
    "\n",
    "X_train, X_test, y_train, y_test = train_test_split(X, y, test_size=0.2, random_state=42)"
   ]
  },
  {
   "cell_type": "code",
   "execution_count": 20,
   "id": "ea612597-7ae7-44dc-9f66-f66b022f7135",
   "metadata": {},
   "outputs": [
    {
     "data": {
      "text/plain": [
       "0.05579809004092769"
      ]
     },
     "execution_count": 20,
     "metadata": {},
     "output_type": "execute_result"
    }
   ],
   "source": [
    "# Create a dummy classifier that always predicts the class that maximizes the training set's class distribution\n",
    "dummy_clf = DummyClassifier(strategy=\"most_frequent\")\n",
    "\n",
    "# Fit the classifier\n",
    "dummy_clf.fit(X_train, y_train)\n",
    "\n",
    "# Predict on the test set\n",
    "baseline_predictions = dummy_clf.predict(X_test)\n",
    "\n",
    "# Calculate the accuracy\n",
    "baseline_accuracy = accuracy_score(y_test, baseline_predictions)\n",
    "\n",
    "baseline_accuracy\n"
   ]
  },
  {
   "cell_type": "code",
   "execution_count": 21,
   "id": "e4a4cc82-77f0-422b-8c85-e2adfd5eb229",
   "metadata": {},
   "outputs": [
    {
     "data": {
      "text/plain": [
       "0.05757162346521146"
      ]
     },
     "execution_count": 21,
     "metadata": {},
     "output_type": "execute_result"
    }
   ],
   "source": [
    "# Initialize and train the model\n",
    "log_reg = LogisticRegression(max_iter=10000)  # Increase max_iter for convergence\n",
    "log_reg.fit(X_train, y_train)\n",
    "\n",
    "# Predict on test set\n",
    "log_reg_preds = log_reg.predict(X_test)\n",
    "\n",
    "# Evaluate the model\n",
    "log_reg_accuracy = accuracy_score(y_test, log_reg_preds)\n",
    "log_reg_accuracy"
   ]
  },
  {
   "cell_type": "code",
   "execution_count": 22,
   "id": "7b2552f6-1b75-455d-9d70-681dfa0e7b82",
   "metadata": {},
   "outputs": [
    {
     "data": {
      "text/plain": [
       "0.3813096862210095"
      ]
     },
     "execution_count": 22,
     "metadata": {},
     "output_type": "execute_result"
    }
   ],
   "source": [
    "# Initialize and train the model\n",
    "decision_tree = DecisionTreeClassifier(random_state=42)\n",
    "decision_tree.fit(X_train, y_train)\n",
    "\n",
    "# Predict on test set\n",
    "decision_tree_preds = decision_tree.predict(X_test)\n",
    "\n",
    "# Evaluate the model\n",
    "decision_tree_accuracy = accuracy_score(y_test, decision_tree_preds)\n",
    "decision_tree_accuracy"
   ]
  },
  {
   "cell_type": "code",
   "execution_count": 23,
   "id": "20c24790-cbc1-48ae-b5fa-3fd06e1e6bfe",
   "metadata": {},
   "outputs": [
    {
     "data": {
      "text/plain": [
       "0.3814461118690314"
      ]
     },
     "execution_count": 23,
     "metadata": {},
     "output_type": "execute_result"
    }
   ],
   "source": [
    "# Initialize and train the model\n",
    "random_forest = RandomForestClassifier(random_state=42)\n",
    "random_forest.fit(X_train, y_train)\n",
    "\n",
    "# Predict on test set\n",
    "random_forest_preds = random_forest.predict(X_test)\n",
    "\n",
    "# Evaluate the model\n",
    "random_forest_accuracy = accuracy_score(y_test, random_forest_preds)\n",
    "random_forest_accuracy"
   ]
  },
  {
   "cell_type": "code",
   "execution_count": 24,
   "id": "ddf59d6c-1036-4f3d-bb57-71e936897292",
   "metadata": {},
   "outputs": [
    {
     "data": {
      "text/plain": [
       "0.40641200545702594"
      ]
     },
     "execution_count": 24,
     "metadata": {},
     "output_type": "execute_result"
    }
   ],
   "source": [
    "# Initialize and train the model\n",
    "knn = KNeighborsClassifier(n_neighbors=5)  # Default number of neighbors is 5\n",
    "knn.fit(X_train, y_train)\n",
    "\n",
    "# Predict on test set\n",
    "knn_preds = knn.predict(X_test)\n",
    "\n",
    "# Evaluate the model\n",
    "knn_accuracy = accuracy_score(y_test, knn_preds)\n",
    "knn_accuracy"
   ]
  },
  {
   "cell_type": "code",
   "execution_count": null,
   "id": "1a91b8bf-2a6a-4120-9024-3b10facf6ec4",
   "metadata": {},
   "outputs": [],
   "source": []
  },
  {
   "cell_type": "code",
   "execution_count": null,
   "id": "41613f92-3a37-4e65-bafa-055093b4f752",
   "metadata": {},
   "outputs": [],
   "source": []
  },
  {
   "cell_type": "code",
   "execution_count": null,
   "id": "756557ed-abef-4189-ad15-8e793c3d4c6e",
   "metadata": {},
   "outputs": [],
   "source": []
  },
  {
   "cell_type": "code",
   "execution_count": null,
   "id": "f7fa6b85-9335-4afd-8ddf-83362b29f64d",
   "metadata": {},
   "outputs": [],
   "source": []
  },
  {
   "cell_type": "code",
   "execution_count": null,
   "id": "25a5741e-7df3-458b-bbbc-fb36dc046de1",
   "metadata": {},
   "outputs": [],
   "source": []
  }
 ],
 "metadata": {
  "kernelspec": {
   "display_name": "Python 3 (ipykernel)",
   "language": "python",
   "name": "python3"
  },
  "language_info": {
   "codemirror_mode": {
    "name": "ipython",
    "version": 3
   },
   "file_extension": ".py",
   "mimetype": "text/x-python",
   "name": "python",
   "nbconvert_exporter": "python",
   "pygments_lexer": "ipython3",
   "version": "3.10.12"
  }
 },
 "nbformat": 4,
 "nbformat_minor": 5
}
