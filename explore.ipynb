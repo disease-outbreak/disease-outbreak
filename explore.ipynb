{
 "cells": [
  {
   "cell_type": "code",
   "execution_count": 1,
   "id": "1d942233",
   "metadata": {},
   "outputs": [],
   "source": [
    "import pandas as pd\n",
    "import matplotlib.pyplot as plt\n",
    "import pandas as pd\n",
    "import seaborn as sns"
   ]
  },
  {
   "cell_type": "code",
   "execution_count": 2,
   "id": "02704a2c",
   "metadata": {},
   "outputs": [],
   "source": [
    "df = pd.read_csv('dataset.csv')"
   ]
  },
  {
   "cell_type": "code",
   "execution_count": 32,
   "id": "6abbc837",
   "metadata": {},
   "outputs": [
    {
     "data": {
      "text/plain": [
       "(4920, 18)"
      ]
     },
     "execution_count": 32,
     "metadata": {},
     "output_type": "execute_result"
    }
   ],
   "source": [
    "df.shape"
   ]
  },
  {
   "cell_type": "code",
   "execution_count": 3,
   "id": "3d8f6d21",
   "metadata": {},
   "outputs": [
    {
     "data": {
      "text/html": [
       "<div>\n",
       "<style scoped>\n",
       "    .dataframe tbody tr th:only-of-type {\n",
       "        vertical-align: middle;\n",
       "    }\n",
       "\n",
       "    .dataframe tbody tr th {\n",
       "        vertical-align: top;\n",
       "    }\n",
       "\n",
       "    .dataframe thead th {\n",
       "        text-align: right;\n",
       "    }\n",
       "</style>\n",
       "<table border=\"1\" class=\"dataframe\">\n",
       "  <thead>\n",
       "    <tr style=\"text-align: right;\">\n",
       "      <th></th>\n",
       "      <th>Disease</th>\n",
       "      <th>Symptom_1</th>\n",
       "      <th>Symptom_2</th>\n",
       "      <th>Symptom_3</th>\n",
       "      <th>Symptom_4</th>\n",
       "      <th>Symptom_5</th>\n",
       "      <th>Symptom_6</th>\n",
       "      <th>Symptom_7</th>\n",
       "      <th>Symptom_8</th>\n",
       "      <th>Symptom_9</th>\n",
       "      <th>Symptom_10</th>\n",
       "      <th>Symptom_11</th>\n",
       "      <th>Symptom_12</th>\n",
       "      <th>Symptom_13</th>\n",
       "      <th>Symptom_14</th>\n",
       "      <th>Symptom_15</th>\n",
       "      <th>Symptom_16</th>\n",
       "      <th>Symptom_17</th>\n",
       "    </tr>\n",
       "  </thead>\n",
       "  <tbody>\n",
       "    <tr>\n",
       "      <th>0</th>\n",
       "      <td>Fungal infection</td>\n",
       "      <td>itching</td>\n",
       "      <td>skin_rash</td>\n",
       "      <td>nodal_skin_eruptions</td>\n",
       "      <td>dischromic _patches</td>\n",
       "      <td>NaN</td>\n",
       "      <td>NaN</td>\n",
       "      <td>NaN</td>\n",
       "      <td>NaN</td>\n",
       "      <td>NaN</td>\n",
       "      <td>NaN</td>\n",
       "      <td>NaN</td>\n",
       "      <td>NaN</td>\n",
       "      <td>NaN</td>\n",
       "      <td>NaN</td>\n",
       "      <td>NaN</td>\n",
       "      <td>NaN</td>\n",
       "      <td>NaN</td>\n",
       "    </tr>\n",
       "    <tr>\n",
       "      <th>1</th>\n",
       "      <td>Fungal infection</td>\n",
       "      <td>skin_rash</td>\n",
       "      <td>nodal_skin_eruptions</td>\n",
       "      <td>dischromic _patches</td>\n",
       "      <td>NaN</td>\n",
       "      <td>NaN</td>\n",
       "      <td>NaN</td>\n",
       "      <td>NaN</td>\n",
       "      <td>NaN</td>\n",
       "      <td>NaN</td>\n",
       "      <td>NaN</td>\n",
       "      <td>NaN</td>\n",
       "      <td>NaN</td>\n",
       "      <td>NaN</td>\n",
       "      <td>NaN</td>\n",
       "      <td>NaN</td>\n",
       "      <td>NaN</td>\n",
       "      <td>NaN</td>\n",
       "    </tr>\n",
       "    <tr>\n",
       "      <th>2</th>\n",
       "      <td>Fungal infection</td>\n",
       "      <td>itching</td>\n",
       "      <td>nodal_skin_eruptions</td>\n",
       "      <td>dischromic _patches</td>\n",
       "      <td>NaN</td>\n",
       "      <td>NaN</td>\n",
       "      <td>NaN</td>\n",
       "      <td>NaN</td>\n",
       "      <td>NaN</td>\n",
       "      <td>NaN</td>\n",
       "      <td>NaN</td>\n",
       "      <td>NaN</td>\n",
       "      <td>NaN</td>\n",
       "      <td>NaN</td>\n",
       "      <td>NaN</td>\n",
       "      <td>NaN</td>\n",
       "      <td>NaN</td>\n",
       "      <td>NaN</td>\n",
       "    </tr>\n",
       "    <tr>\n",
       "      <th>3</th>\n",
       "      <td>Fungal infection</td>\n",
       "      <td>itching</td>\n",
       "      <td>skin_rash</td>\n",
       "      <td>dischromic _patches</td>\n",
       "      <td>NaN</td>\n",
       "      <td>NaN</td>\n",
       "      <td>NaN</td>\n",
       "      <td>NaN</td>\n",
       "      <td>NaN</td>\n",
       "      <td>NaN</td>\n",
       "      <td>NaN</td>\n",
       "      <td>NaN</td>\n",
       "      <td>NaN</td>\n",
       "      <td>NaN</td>\n",
       "      <td>NaN</td>\n",
       "      <td>NaN</td>\n",
       "      <td>NaN</td>\n",
       "      <td>NaN</td>\n",
       "    </tr>\n",
       "    <tr>\n",
       "      <th>4</th>\n",
       "      <td>Fungal infection</td>\n",
       "      <td>itching</td>\n",
       "      <td>skin_rash</td>\n",
       "      <td>nodal_skin_eruptions</td>\n",
       "      <td>NaN</td>\n",
       "      <td>NaN</td>\n",
       "      <td>NaN</td>\n",
       "      <td>NaN</td>\n",
       "      <td>NaN</td>\n",
       "      <td>NaN</td>\n",
       "      <td>NaN</td>\n",
       "      <td>NaN</td>\n",
       "      <td>NaN</td>\n",
       "      <td>NaN</td>\n",
       "      <td>NaN</td>\n",
       "      <td>NaN</td>\n",
       "      <td>NaN</td>\n",
       "      <td>NaN</td>\n",
       "    </tr>\n",
       "  </tbody>\n",
       "</table>\n",
       "</div>"
      ],
      "text/plain": [
       "            Disease   Symptom_1              Symptom_2              Symptom_3  \\\n",
       "0  Fungal infection     itching              skin_rash   nodal_skin_eruptions   \n",
       "1  Fungal infection   skin_rash   nodal_skin_eruptions    dischromic _patches   \n",
       "2  Fungal infection     itching   nodal_skin_eruptions    dischromic _patches   \n",
       "3  Fungal infection     itching              skin_rash    dischromic _patches   \n",
       "4  Fungal infection     itching              skin_rash   nodal_skin_eruptions   \n",
       "\n",
       "              Symptom_4 Symptom_5 Symptom_6 Symptom_7 Symptom_8 Symptom_9  \\\n",
       "0   dischromic _patches       NaN       NaN       NaN       NaN       NaN   \n",
       "1                   NaN       NaN       NaN       NaN       NaN       NaN   \n",
       "2                   NaN       NaN       NaN       NaN       NaN       NaN   \n",
       "3                   NaN       NaN       NaN       NaN       NaN       NaN   \n",
       "4                   NaN       NaN       NaN       NaN       NaN       NaN   \n",
       "\n",
       "  Symptom_10 Symptom_11 Symptom_12 Symptom_13 Symptom_14 Symptom_15  \\\n",
       "0        NaN        NaN        NaN        NaN        NaN        NaN   \n",
       "1        NaN        NaN        NaN        NaN        NaN        NaN   \n",
       "2        NaN        NaN        NaN        NaN        NaN        NaN   \n",
       "3        NaN        NaN        NaN        NaN        NaN        NaN   \n",
       "4        NaN        NaN        NaN        NaN        NaN        NaN   \n",
       "\n",
       "  Symptom_16 Symptom_17  \n",
       "0        NaN        NaN  \n",
       "1        NaN        NaN  \n",
       "2        NaN        NaN  \n",
       "3        NaN        NaN  \n",
       "4        NaN        NaN  "
      ]
     },
     "execution_count": 3,
     "metadata": {},
     "output_type": "execute_result"
    }
   ],
   "source": [
    "df.head()"
   ]
  },
  {
   "cell_type": "code",
   "execution_count": 4,
   "id": "117fa6a4",
   "metadata": {},
   "outputs": [
    {
     "data": {
      "text/plain": [
       "Disease          0\n",
       "Symptom_1        0\n",
       "Symptom_2        0\n",
       "Symptom_3        0\n",
       "Symptom_4      348\n",
       "Symptom_5     1206\n",
       "Symptom_6     1986\n",
       "Symptom_7     2652\n",
       "Symptom_8     2976\n",
       "Symptom_9     3228\n",
       "Symptom_10    3408\n",
       "Symptom_11    3726\n",
       "Symptom_12    4176\n",
       "Symptom_13    4416\n",
       "Symptom_14    4614\n",
       "Symptom_15    4680\n",
       "Symptom_16    4728\n",
       "Symptom_17    4848\n",
       "dtype: int64"
      ]
     },
     "execution_count": 4,
     "metadata": {},
     "output_type": "execute_result"
    }
   ],
   "source": [
    "df.isna().sum()"
   ]
  },
  {
   "cell_type": "code",
   "execution_count": 5,
   "id": "7af3b8cc",
   "metadata": {},
   "outputs": [],
   "source": [
    "df.columns = df.columns.str.lower()"
   ]
  },
  {
   "cell_type": "code",
   "execution_count": 6,
   "id": "1bb6c859",
   "metadata": {
    "scrolled": true
   },
   "outputs": [
    {
     "data": {
      "text/plain": [
       "Fungal infection                           120\n",
       "Hepatitis C                                120\n",
       "Hepatitis E                                120\n",
       "Alcoholic hepatitis                        120\n",
       "Tuberculosis                               120\n",
       "Common Cold                                120\n",
       "Pneumonia                                  120\n",
       "Dimorphic hemmorhoids(piles)               120\n",
       "Heart attack                               120\n",
       "Varicose veins                             120\n",
       "Hypothyroidism                             120\n",
       "Hyperthyroidism                            120\n",
       "Hypoglycemia                               120\n",
       "Osteoarthristis                            120\n",
       "Arthritis                                  120\n",
       "(vertigo) Paroymsal  Positional Vertigo    120\n",
       "Acne                                       120\n",
       "Urinary tract infection                    120\n",
       "Psoriasis                                  120\n",
       "Hepatitis D                                120\n",
       "Hepatitis B                                120\n",
       "Allergy                                    120\n",
       "hepatitis A                                120\n",
       "GERD                                       120\n",
       "Chronic cholestasis                        120\n",
       "Drug Reaction                              120\n",
       "Peptic ulcer diseae                        120\n",
       "AIDS                                       120\n",
       "Diabetes                                   120\n",
       "Gastroenteritis                            120\n",
       "Bronchial Asthma                           120\n",
       "Hypertension                               120\n",
       "Migraine                                   120\n",
       "Cervical spondylosis                       120\n",
       "Paralysis (brain hemorrhage)               120\n",
       "Jaundice                                   120\n",
       "Malaria                                    120\n",
       "Chicken pox                                120\n",
       "Dengue                                     120\n",
       "Typhoid                                    120\n",
       "Impetigo                                   120\n",
       "Name: disease, dtype: int64"
      ]
     },
     "execution_count": 6,
     "metadata": {},
     "output_type": "execute_result"
    }
   ],
   "source": [
    "df.disease.value_counts()"
   ]
  },
  {
   "cell_type": "code",
   "execution_count": 7,
   "id": "c0363ca6",
   "metadata": {},
   "outputs": [
    {
     "data": {
      "text/plain": [
       " vomiting                       822\n",
       " fatigue                        690\n",
       "itching                         678\n",
       " skin_rash                      480\n",
       " chills                         474\n",
       " joint_pain                     462\n",
       " continuous_sneezing            222\n",
       " headache                       126\n",
       " acidity                        120\n",
       " stomach_pain                   114\n",
       " constipation                   114\n",
       " muscle_weakness                114\n",
       " burning_micturition            108\n",
       " muscle_wasting                 108\n",
       " back_pain                      108\n",
       " bladder_discomfort              12\n",
       " weight_gain                     12\n",
       " breathlessness                  12\n",
       " yellowish_skin                  12\n",
       " weakness_in_limbs               12\n",
       " chest_pain                      12\n",
       " cough                           12\n",
       " sunken_eyes                     12\n",
       " patches_in_throat               12\n",
       " indigestion                     12\n",
       " shivering                       12\n",
       " pain_during_bowel_movements      6\n",
       " cramps                           6\n",
       " weight_loss                      6\n",
       " mood_swings                      6\n",
       " neck_pain                        6\n",
       " stiff_neck                       6\n",
       " pus_filled_pimples               6\n",
       " high_fever                       6\n",
       "Name: symptom_1, dtype: int64"
      ]
     },
     "execution_count": 7,
     "metadata": {},
     "output_type": "execute_result"
    }
   ],
   "source": [
    "df.symptom_1.value_counts()"
   ]
  },
  {
   "cell_type": "code",
   "execution_count": 8,
   "id": "8f8ea32f",
   "metadata": {},
   "outputs": [
    {
     "data": {
      "text/plain": [
       "array(['Fungal infection', 'Fungal infection', 'Fungal infection', ...,\n",
       "       'Urinary tract infection', 'Psoriasis', 'Impetigo'], dtype=object)"
      ]
     },
     "execution_count": 8,
     "metadata": {},
     "output_type": "execute_result"
    }
   ],
   "source": [
    "df.disease.values"
   ]
  },
  {
   "cell_type": "code",
   "execution_count": 9,
   "id": "9d3a4d61",
   "metadata": {
    "scrolled": true
   },
   "outputs": [
    {
     "data": {
      "text/plain": [
       "Index(['disease', 'symptom_1', 'symptom_2', 'symptom_3', 'symptom_4',\n",
       "       'symptom_5', 'symptom_6', 'symptom_7', 'symptom_8', 'symptom_9',\n",
       "       'symptom_10', 'symptom_11', 'symptom_12', 'symptom_13', 'symptom_14',\n",
       "       'symptom_15', 'symptom_16', 'symptom_17'],\n",
       "      dtype='object')"
      ]
     },
     "execution_count": 9,
     "metadata": {},
     "output_type": "execute_result"
    }
   ],
   "source": [
    "df.columns"
   ]
  },
  {
   "cell_type": "code",
   "execution_count": 10,
   "id": "00b9d6ce",
   "metadata": {},
   "outputs": [
    {
     "data": {
      "text/plain": [
       "array([' vomiting', ' vomiting', ' breathlessness', ' vomiting',\n",
       "       ' vomiting', ' vomiting', ' vomiting', ' breathlessness',\n",
       "       ' vomiting', ' vomiting', ' vomiting', ' vomiting',\n",
       "       ' breathlessness', ' vomiting', ' vomiting', ' vomiting',\n",
       "       ' vomiting', ' breathlessness', ' vomiting', ' vomiting',\n",
       "       ' vomiting', ' vomiting', ' breathlessness', ' vomiting',\n",
       "       ' vomiting', ' vomiting', ' vomiting', ' breathlessness',\n",
       "       ' vomiting', ' vomiting', ' vomiting', ' vomiting',\n",
       "       ' breathlessness', ' vomiting', ' vomiting', ' vomiting',\n",
       "       ' vomiting', ' breathlessness', ' vomiting', ' vomiting',\n",
       "       ' vomiting', ' vomiting', ' breathlessness', ' vomiting',\n",
       "       ' vomiting', ' vomiting', ' vomiting', ' breathlessness',\n",
       "       ' vomiting', ' vomiting', ' vomiting', ' vomiting',\n",
       "       ' breathlessness', ' vomiting', ' vomiting', ' vomiting',\n",
       "       ' vomiting', ' breathlessness', ' vomiting', ' vomiting',\n",
       "       ' vomiting', ' vomiting', ' vomiting', ' vomiting', ' vomiting',\n",
       "       ' vomiting', ' vomiting', ' vomiting', ' vomiting', ' vomiting',\n",
       "       ' vomiting', ' vomiting', ' vomiting', ' vomiting', ' vomiting',\n",
       "       ' vomiting', ' vomiting', ' vomiting', ' vomiting', ' vomiting',\n",
       "       ' vomiting', ' vomiting', ' vomiting', ' vomiting', ' vomiting',\n",
       "       ' vomiting', ' vomiting', ' vomiting', ' vomiting', ' vomiting',\n",
       "       ' vomiting', ' vomiting', ' vomiting', ' vomiting', ' vomiting',\n",
       "       ' vomiting', ' vomiting', ' vomiting', ' vomiting', ' vomiting',\n",
       "       ' vomiting', ' vomiting', ' vomiting', ' vomiting', ' vomiting',\n",
       "       ' vomiting', ' vomiting', ' vomiting', ' vomiting', ' vomiting',\n",
       "       ' vomiting', ' vomiting', ' vomiting', ' vomiting', ' vomiting',\n",
       "       ' vomiting', ' vomiting', ' vomiting', ' vomiting', ' vomiting'],\n",
       "      dtype=object)"
      ]
     },
     "execution_count": 10,
     "metadata": {},
     "output_type": "execute_result"
    }
   ],
   "source": [
    "df[df.disease == 'Heart attack' ]['symptom_1'].values"
   ]
  },
  {
   "cell_type": "code",
   "execution_count": 11,
   "id": "912384b7",
   "metadata": {},
   "outputs": [
    {
     "data": {
      "text/plain": [
       "array([' vomiting', ' vomiting', ' breathlessness', ' vomiting',\n",
       "       ' vomiting', ' vomiting', ' vomiting', ' breathlessness',\n",
       "       ' vomiting', ' vomiting', ' vomiting', ' vomiting',\n",
       "       ' breathlessness', ' vomiting', ' vomiting', ' vomiting',\n",
       "       ' vomiting', ' breathlessness', ' vomiting', ' vomiting',\n",
       "       ' vomiting', ' vomiting', ' breathlessness', ' vomiting',\n",
       "       ' vomiting', ' vomiting', ' vomiting', ' breathlessness',\n",
       "       ' vomiting', ' vomiting', ' vomiting', ' vomiting',\n",
       "       ' breathlessness', ' vomiting', ' vomiting', ' vomiting',\n",
       "       ' vomiting', ' breathlessness', ' vomiting', ' vomiting',\n",
       "       ' vomiting', ' vomiting', ' breathlessness', ' vomiting',\n",
       "       ' vomiting', ' vomiting', ' vomiting', ' breathlessness',\n",
       "       ' vomiting', ' vomiting', ' vomiting', ' vomiting',\n",
       "       ' breathlessness', ' vomiting', ' vomiting', ' vomiting',\n",
       "       ' vomiting', ' breathlessness', ' vomiting', ' vomiting',\n",
       "       ' vomiting', ' vomiting', ' vomiting', ' vomiting', ' vomiting',\n",
       "       ' vomiting', ' vomiting', ' vomiting', ' vomiting', ' vomiting',\n",
       "       ' vomiting', ' vomiting', ' vomiting', ' vomiting', ' vomiting',\n",
       "       ' vomiting', ' vomiting', ' vomiting', ' vomiting', ' vomiting',\n",
       "       ' vomiting', ' vomiting', ' vomiting', ' vomiting', ' vomiting',\n",
       "       ' vomiting', ' vomiting', ' vomiting', ' vomiting', ' vomiting',\n",
       "       ' vomiting', ' vomiting', ' vomiting', ' vomiting', ' vomiting',\n",
       "       ' vomiting', ' vomiting', ' vomiting', ' vomiting', ' vomiting',\n",
       "       ' vomiting', ' vomiting', ' vomiting', ' vomiting', ' vomiting',\n",
       "       ' vomiting', ' vomiting', ' vomiting', ' vomiting', ' vomiting',\n",
       "       ' vomiting', ' vomiting', ' vomiting', ' vomiting', ' vomiting',\n",
       "       ' vomiting', ' vomiting', ' vomiting', ' vomiting', ' vomiting'],\n",
       "      dtype=object)"
      ]
     },
     "execution_count": 11,
     "metadata": {},
     "output_type": "execute_result"
    }
   ],
   "source": [
    "df[df.disease == 'Heart attack' ]['symptom_1'].values"
   ]
  },
  {
   "cell_type": "code",
   "execution_count": 12,
   "id": "e8fbafed",
   "metadata": {},
   "outputs": [],
   "source": [
    "df2 = df.drop(columns= 'disease')"
   ]
  },
  {
   "cell_type": "code",
   "execution_count": 13,
   "id": "ba11cc4c",
   "metadata": {},
   "outputs": [
    {
     "data": {
      "text/html": [
       "<div>\n",
       "<style scoped>\n",
       "    .dataframe tbody tr th:only-of-type {\n",
       "        vertical-align: middle;\n",
       "    }\n",
       "\n",
       "    .dataframe tbody tr th {\n",
       "        vertical-align: top;\n",
       "    }\n",
       "\n",
       "    .dataframe thead th {\n",
       "        text-align: right;\n",
       "    }\n",
       "</style>\n",
       "<table border=\"1\" class=\"dataframe\">\n",
       "  <thead>\n",
       "    <tr style=\"text-align: right;\">\n",
       "      <th></th>\n",
       "      <th>symptom_1</th>\n",
       "      <th>symptom_2</th>\n",
       "      <th>symptom_3</th>\n",
       "      <th>symptom_4</th>\n",
       "      <th>symptom_5</th>\n",
       "      <th>symptom_6</th>\n",
       "      <th>symptom_7</th>\n",
       "      <th>symptom_8</th>\n",
       "      <th>symptom_9</th>\n",
       "      <th>symptom_10</th>\n",
       "      <th>symptom_11</th>\n",
       "      <th>symptom_12</th>\n",
       "      <th>symptom_13</th>\n",
       "      <th>symptom_14</th>\n",
       "      <th>symptom_15</th>\n",
       "      <th>symptom_16</th>\n",
       "      <th>symptom_17</th>\n",
       "    </tr>\n",
       "  </thead>\n",
       "  <tbody>\n",
       "    <tr>\n",
       "      <th>0</th>\n",
       "      <td>itching</td>\n",
       "      <td>skin_rash</td>\n",
       "      <td>nodal_skin_eruptions</td>\n",
       "      <td>dischromic _patches</td>\n",
       "      <td>NaN</td>\n",
       "      <td>NaN</td>\n",
       "      <td>NaN</td>\n",
       "      <td>NaN</td>\n",
       "      <td>NaN</td>\n",
       "      <td>NaN</td>\n",
       "      <td>NaN</td>\n",
       "      <td>NaN</td>\n",
       "      <td>NaN</td>\n",
       "      <td>NaN</td>\n",
       "      <td>NaN</td>\n",
       "      <td>NaN</td>\n",
       "      <td>NaN</td>\n",
       "    </tr>\n",
       "    <tr>\n",
       "      <th>1</th>\n",
       "      <td>skin_rash</td>\n",
       "      <td>nodal_skin_eruptions</td>\n",
       "      <td>dischromic _patches</td>\n",
       "      <td>NaN</td>\n",
       "      <td>NaN</td>\n",
       "      <td>NaN</td>\n",
       "      <td>NaN</td>\n",
       "      <td>NaN</td>\n",
       "      <td>NaN</td>\n",
       "      <td>NaN</td>\n",
       "      <td>NaN</td>\n",
       "      <td>NaN</td>\n",
       "      <td>NaN</td>\n",
       "      <td>NaN</td>\n",
       "      <td>NaN</td>\n",
       "      <td>NaN</td>\n",
       "      <td>NaN</td>\n",
       "    </tr>\n",
       "    <tr>\n",
       "      <th>2</th>\n",
       "      <td>itching</td>\n",
       "      <td>nodal_skin_eruptions</td>\n",
       "      <td>dischromic _patches</td>\n",
       "      <td>NaN</td>\n",
       "      <td>NaN</td>\n",
       "      <td>NaN</td>\n",
       "      <td>NaN</td>\n",
       "      <td>NaN</td>\n",
       "      <td>NaN</td>\n",
       "      <td>NaN</td>\n",
       "      <td>NaN</td>\n",
       "      <td>NaN</td>\n",
       "      <td>NaN</td>\n",
       "      <td>NaN</td>\n",
       "      <td>NaN</td>\n",
       "      <td>NaN</td>\n",
       "      <td>NaN</td>\n",
       "    </tr>\n",
       "    <tr>\n",
       "      <th>3</th>\n",
       "      <td>itching</td>\n",
       "      <td>skin_rash</td>\n",
       "      <td>dischromic _patches</td>\n",
       "      <td>NaN</td>\n",
       "      <td>NaN</td>\n",
       "      <td>NaN</td>\n",
       "      <td>NaN</td>\n",
       "      <td>NaN</td>\n",
       "      <td>NaN</td>\n",
       "      <td>NaN</td>\n",
       "      <td>NaN</td>\n",
       "      <td>NaN</td>\n",
       "      <td>NaN</td>\n",
       "      <td>NaN</td>\n",
       "      <td>NaN</td>\n",
       "      <td>NaN</td>\n",
       "      <td>NaN</td>\n",
       "    </tr>\n",
       "    <tr>\n",
       "      <th>4</th>\n",
       "      <td>itching</td>\n",
       "      <td>skin_rash</td>\n",
       "      <td>nodal_skin_eruptions</td>\n",
       "      <td>NaN</td>\n",
       "      <td>NaN</td>\n",
       "      <td>NaN</td>\n",
       "      <td>NaN</td>\n",
       "      <td>NaN</td>\n",
       "      <td>NaN</td>\n",
       "      <td>NaN</td>\n",
       "      <td>NaN</td>\n",
       "      <td>NaN</td>\n",
       "      <td>NaN</td>\n",
       "      <td>NaN</td>\n",
       "      <td>NaN</td>\n",
       "      <td>NaN</td>\n",
       "      <td>NaN</td>\n",
       "    </tr>\n",
       "  </tbody>\n",
       "</table>\n",
       "</div>"
      ],
      "text/plain": [
       "    symptom_1              symptom_2              symptom_3  \\\n",
       "0     itching              skin_rash   nodal_skin_eruptions   \n",
       "1   skin_rash   nodal_skin_eruptions    dischromic _patches   \n",
       "2     itching   nodal_skin_eruptions    dischromic _patches   \n",
       "3     itching              skin_rash    dischromic _patches   \n",
       "4     itching              skin_rash   nodal_skin_eruptions   \n",
       "\n",
       "              symptom_4 symptom_5 symptom_6 symptom_7 symptom_8 symptom_9  \\\n",
       "0   dischromic _patches       NaN       NaN       NaN       NaN       NaN   \n",
       "1                   NaN       NaN       NaN       NaN       NaN       NaN   \n",
       "2                   NaN       NaN       NaN       NaN       NaN       NaN   \n",
       "3                   NaN       NaN       NaN       NaN       NaN       NaN   \n",
       "4                   NaN       NaN       NaN       NaN       NaN       NaN   \n",
       "\n",
       "  symptom_10 symptom_11 symptom_12 symptom_13 symptom_14 symptom_15  \\\n",
       "0        NaN        NaN        NaN        NaN        NaN        NaN   \n",
       "1        NaN        NaN        NaN        NaN        NaN        NaN   \n",
       "2        NaN        NaN        NaN        NaN        NaN        NaN   \n",
       "3        NaN        NaN        NaN        NaN        NaN        NaN   \n",
       "4        NaN        NaN        NaN        NaN        NaN        NaN   \n",
       "\n",
       "  symptom_16 symptom_17  \n",
       "0        NaN        NaN  \n",
       "1        NaN        NaN  \n",
       "2        NaN        NaN  \n",
       "3        NaN        NaN  \n",
       "4        NaN        NaN  "
      ]
     },
     "execution_count": 13,
     "metadata": {},
     "output_type": "execute_result"
    }
   ],
   "source": [
    "df2.head()"
   ]
  },
  {
   "cell_type": "code",
   "execution_count": 29,
   "id": "048013fe",
   "metadata": {
    "scrolled": true
   },
   "outputs": [],
   "source": [
    "def all_symptoms(df):\n",
    "    \n",
    "    df2 = df.drop(columns='disease')\n",
    "    \n",
    "    symptoms = []  \n",
    "\n",
    "    for c in df2.columns:\n",
    "        \n",
    "        column_values = []  \n",
    "        \n",
    "        for d in df.disease.values:\n",
    "            \n",
    "            s = df[df.disease == d][c].values\n",
    "            \n",
    "            column_values.extend(s)  \n",
    "        \n",
    "        symptoms.append(column_values)  \n",
    "    \n",
    "    s_list = [element for subarray in symptoms for element in subarray]\n",
    "\n",
    "    return pd.Series(s_list)\n",
    "     "
   ]
  },
  {
   "cell_type": "code",
   "execution_count": 38,
   "id": "8fb2ed4f",
   "metadata": {},
   "outputs": [
    {
     "data": {
      "text/plain": [
       "array(['Fungal infection', 'Fungal infection', 'Fungal infection', ...,\n",
       "       'Urinary tract infection', 'Psoriasis', 'Impetigo'], dtype=object)"
      ]
     },
     "execution_count": 38,
     "metadata": {},
     "output_type": "execute_result"
    }
   ],
   "source": [
    "df.disease.values"
   ]
  },
  {
   "cell_type": "code",
   "execution_count": 35,
   "id": "111f5556",
   "metadata": {},
   "outputs": [
    {
     "data": {
      "text/plain": [
       "83640"
      ]
     },
     "execution_count": 35,
     "metadata": {},
     "output_type": "execute_result"
    }
   ],
   "source": [
    "4920 * 17"
   ]
  },
  {
   "cell_type": "code",
   "execution_count": 34,
   "id": "d6404470",
   "metadata": {},
   "outputs": [
    {
     "data": {
      "text/plain": [
       "(4920, 17)"
      ]
     },
     "execution_count": 34,
     "metadata": {},
     "output_type": "execute_result"
    }
   ],
   "source": [
    "df2.shape"
   ]
  },
  {
   "cell_type": "code",
   "execution_count": 30,
   "id": "ea65f589",
   "metadata": {},
   "outputs": [],
   "source": [
    "all_symptoms = all_symptoms(df)"
   ]
  },
  {
   "cell_type": "code",
   "execution_count": 33,
   "id": "1fabdd87",
   "metadata": {},
   "outputs": [
    {
     "data": {
      "text/plain": [
       "10036800"
      ]
     },
     "execution_count": 33,
     "metadata": {},
     "output_type": "execute_result"
    }
   ],
   "source": [
    "len(all_symptoms)"
   ]
  },
  {
   "cell_type": "code",
   "execution_count": 31,
   "id": "4abea5ba",
   "metadata": {
    "scrolled": true
   },
   "outputs": [
    {
     "data": {
      "text/plain": [
       " fatigue                      231840\n",
       " vomiting                     229680\n",
       " high_fever                   163440\n",
       " loss_of_appetite             138240\n",
       " nausea                       137520\n",
       "                               ...  \n",
       " sunken_eyes                   12960\n",
       " weakness_in_limbs             12960\n",
       " swollen_blood_vessels         12960\n",
       " weakness_of_one_body_side     12960\n",
       " foul_smell_of urine           12240\n",
       "Length: 131, dtype: int64"
      ]
     },
     "execution_count": 31,
     "metadata": {},
     "output_type": "execute_result"
    }
   ],
   "source": [
    "all_symptoms.value_counts()"
   ]
  },
  {
   "cell_type": "code",
   "execution_count": 16,
   "id": "05326c56",
   "metadata": {
    "scrolled": true
   },
   "outputs": [],
   "source": [
    "def symptoms(df, target ):\n",
    "    \n",
    "    df2 = df.drop(columns= 'disease')\n",
    "\n",
    "    symptoms = []  \n",
    "\n",
    "    for c in df2.columns:\n",
    "\n",
    "        s = df[df['disease'] == target][c].values\n",
    "\n",
    "        symptoms.append(s)\n",
    "    \n",
    "    s_list = [element for subarray in symptoms for element in subarray]\n",
    "    \n",
    "    return pd.Series(s_list)\n",
    "        "
   ]
  },
  {
   "cell_type": "code",
   "execution_count": 39,
   "id": "030d4980",
   "metadata": {},
   "outputs": [],
   "source": [
    "aids = symptoms(df, 'AIDS').value_counts()"
   ]
  },
  {
   "cell_type": "code",
   "execution_count": 43,
   "id": "103f5404",
   "metadata": {},
   "outputs": [
    {
     "data": {
      "text/plain": [
       " high_fever                114\n",
       " muscle_wasting            108\n",
       " patches_in_throat         108\n",
       " extra_marital_contacts    108\n",
       "dtype: int64"
      ]
     },
     "execution_count": 43,
     "metadata": {},
     "output_type": "execute_result"
    }
   ],
   "source": [
    "aids"
   ]
  },
  {
   "cell_type": "code",
   "execution_count": 40,
   "id": "c48ccc99",
   "metadata": {},
   "outputs": [],
   "source": [
    "heart = symptoms(df, 'Heart attack').value_counts()"
   ]
  },
  {
   "cell_type": "code",
   "execution_count": 57,
   "id": "935819dc",
   "metadata": {},
   "outputs": [
    {
     "data": {
      "text/plain": [
       " chest_pain        114\n",
       " vomiting          108\n",
       " breathlessness    108\n",
       " sweating          108\n",
       "dtype: int64"
      ]
     },
     "execution_count": 57,
     "metadata": {},
     "output_type": "execute_result"
    }
   ],
   "source": [
    "heart."
   ]
  },
  {
   "cell_type": "code",
   "execution_count": 56,
   "id": "dc0d32ac",
   "metadata": {
    "scrolled": true
   },
   "outputs": [
    {
     "data": {
      "text/html": [
       "<div>\n",
       "<style scoped>\n",
       "    .dataframe tbody tr th:only-of-type {\n",
       "        vertical-align: middle;\n",
       "    }\n",
       "\n",
       "    .dataframe tbody tr th {\n",
       "        vertical-align: top;\n",
       "    }\n",
       "\n",
       "    .dataframe thead th {\n",
       "        text-align: right;\n",
       "    }\n",
       "</style>\n",
       "<table border=\"1\" class=\"dataframe\">\n",
       "  <thead>\n",
       "    <tr style=\"text-align: right;\">\n",
       "      <th></th>\n",
       "      <th>chest_pain</th>\n",
       "      <th>vomiting</th>\n",
       "      <th>breathlessness</th>\n",
       "      <th>sweating</th>\n",
       "    </tr>\n",
       "  </thead>\n",
       "  <tbody>\n",
       "    <tr>\n",
       "      <th>0</th>\n",
       "      <td>114</td>\n",
       "      <td>108</td>\n",
       "      <td>108</td>\n",
       "      <td>108</td>\n",
       "    </tr>\n",
       "  </tbody>\n",
       "</table>\n",
       "</div>"
      ],
      "text/plain": [
       "    chest_pain   vomiting   breathlessness   sweating\n",
       "0          114        108              108        108"
      ]
     },
     "execution_count": 56,
     "metadata": {},
     "output_type": "execute_result"
    }
   ],
   "source": [
    "df_heart = pd.DataFrame(heart).T\n",
    "df_heart"
   ]
  },
  {
   "cell_type": "code",
   "execution_count": 45,
   "id": "e5e38497",
   "metadata": {},
   "outputs": [
    {
     "ename": "AttributeError",
     "evalue": "'Series' object has no attribute 'chest_pain'",
     "output_type": "error",
     "traceback": [
      "\u001b[0;31m---------------------------------------------------------------------------\u001b[0m",
      "\u001b[0;31mAttributeError\u001b[0m                            Traceback (most recent call last)",
      "Cell \u001b[0;32mIn[45], line 4\u001b[0m\n\u001b[1;32m      1\u001b[0m \u001b[38;5;28;01mfrom\u001b[39;00m \u001b[38;5;21;01mscipy\u001b[39;00m\u001b[38;5;21;01m.\u001b[39;00m\u001b[38;5;21;01mstats\u001b[39;00m \u001b[38;5;28;01mimport\u001b[39;00m chi2_contingency\n\u001b[1;32m      2\u001b[0m \u001b[38;5;66;03m# Assuming your data is in a DataFrame named df\u001b[39;00m\n\u001b[1;32m      3\u001b[0m \u001b[38;5;66;03m# First, create a contingency table\u001b[39;00m\n\u001b[0;32m----> 4\u001b[0m contingency_table \u001b[38;5;241m=\u001b[39m pd\u001b[38;5;241m.\u001b[39mcrosstab(heart\u001b[38;5;241m.\u001b[39mchest_pain, df[\u001b[38;5;124m'\u001b[39m\u001b[38;5;124mDisease\u001b[39m\u001b[38;5;124m'\u001b[39m] \u001b[38;5;241m==\u001b[39m \u001b[38;5;124m'\u001b[39m\u001b[38;5;124mHeart attack\u001b[39m\u001b[38;5;124m'\u001b[39m)\n\u001b[1;32m      5\u001b[0m \u001b[38;5;66;03m# Perform the chi-square test\u001b[39;00m\n\u001b[1;32m      6\u001b[0m chi2, p, _, _ \u001b[38;5;241m=\u001b[39m chi2_contingency(contingency_table)\n",
      "File \u001b[0;32m/usr/local/anaconda3/lib/python3.11/site-packages/pandas/core/generic.py:5902\u001b[0m, in \u001b[0;36mNDFrame.__getattr__\u001b[0;34m(self, name)\u001b[0m\n\u001b[1;32m   5895\u001b[0m \u001b[38;5;28;01mif\u001b[39;00m (\n\u001b[1;32m   5896\u001b[0m     name \u001b[38;5;129;01mnot\u001b[39;00m \u001b[38;5;129;01min\u001b[39;00m \u001b[38;5;28mself\u001b[39m\u001b[38;5;241m.\u001b[39m_internal_names_set\n\u001b[1;32m   5897\u001b[0m     \u001b[38;5;129;01mand\u001b[39;00m name \u001b[38;5;129;01mnot\u001b[39;00m \u001b[38;5;129;01min\u001b[39;00m \u001b[38;5;28mself\u001b[39m\u001b[38;5;241m.\u001b[39m_metadata\n\u001b[1;32m   5898\u001b[0m     \u001b[38;5;129;01mand\u001b[39;00m name \u001b[38;5;129;01mnot\u001b[39;00m \u001b[38;5;129;01min\u001b[39;00m \u001b[38;5;28mself\u001b[39m\u001b[38;5;241m.\u001b[39m_accessors\n\u001b[1;32m   5899\u001b[0m     \u001b[38;5;129;01mand\u001b[39;00m \u001b[38;5;28mself\u001b[39m\u001b[38;5;241m.\u001b[39m_info_axis\u001b[38;5;241m.\u001b[39m_can_hold_identifiers_and_holds_name(name)\n\u001b[1;32m   5900\u001b[0m ):\n\u001b[1;32m   5901\u001b[0m     \u001b[38;5;28;01mreturn\u001b[39;00m \u001b[38;5;28mself\u001b[39m[name]\n\u001b[0;32m-> 5902\u001b[0m \u001b[38;5;28;01mreturn\u001b[39;00m \u001b[38;5;28mobject\u001b[39m\u001b[38;5;241m.\u001b[39m\u001b[38;5;21m__getattribute__\u001b[39m(\u001b[38;5;28mself\u001b[39m, name)\n",
      "\u001b[0;31mAttributeError\u001b[0m: 'Series' object has no attribute 'chest_pain'"
     ]
    }
   ],
   "source": [
    "from scipy.stats import chi2_contingency\n",
    "# Assuming your data is in a DataFrame named df\n",
    "# First, create a contingency table\n",
    "contingency_table = pd.crosstab(df_heart.chest_pain, df['Disease'] == 'Heart attack')\n",
    "# Perform the chi-square test\n",
    "chi2, p, _, _ = chi2_contingency(contingency_table)\n",
    "# Output the chi-square statistic and p-value\n",
    "print(\"Chi-square statistic:\", chi2)\n",
    "print(\"P-value:\", p)\n",
    "# Check if the result is statistically significant at a chosen alpha level\n",
    "alpha = 0.05  # You can adjust the significance level as needed\n",
    "if p < alpha:\n",
    "    print(\"The relationship between 'vomiting' and 'Disease' is statistically significant.\")\n",
    "else:\n",
    "    print(\"There is no statistically significant relationship between 'vomiting' and 'Disease'.\")"
   ]
  },
  {
   "cell_type": "code",
   "execution_count": 17,
   "id": "f72da31d",
   "metadata": {},
   "outputs": [],
   "source": [
    "def symptom_dist1(df, target):\n",
    "    # Create the bar plot with value counts\n",
    "    s = symptoms(df, target)\n",
    "    value_counts = s.value_counts()\n",
    "    \n",
    "    # Plot the bar chart\n",
    "    ax = value_counts.plot(kind='bar', color = 'lightseagreen')\n",
    "    \n",
    "    # Add the total count on top of each bar\n",
    "    for i, v in enumerate(value_counts):\n",
    "        ax.text(i, v, str(v), ha='center', va='bottom')\n",
    "    \n",
    "    plt.title(f'Value Counts of Symptoms for {target}')\n",
    "    plt.xlabel('')\n",
    "    plt.yticks([])\n",
    "    plt.ylabel('')\n",
    "    plt.xticks(rotation=45)\n",
    "    sns.despine(bottom=True, left=True)\n",
    "    plt.tick_params(axis='x', which='both', bottom=False, top=False)\n",
    "    \n",
    "    plt.show()"
   ]
  },
  {
   "cell_type": "code",
   "execution_count": 18,
   "id": "ab7712ac",
   "metadata": {},
   "outputs": [],
   "source": [
    "def symptom_dist(df, target):\n",
    "    # Create the bar plot with value counts\n",
    "    s = symptoms(df, target)\n",
    "    value_counts = s.value_counts()\n",
    "    \n",
    "    # Plot the horizontal bar chart\n",
    "    ax = value_counts.plot(kind='barh', color='lightseagreen')\n",
    "    \n",
    "    # Add the total count on the right of each bar\n",
    "    for i, v in enumerate(value_counts):\n",
    "        ax.text(v + 0.2, i, str(v), ha='left', va='center')\n",
    "    \n",
    "    plt.title(f'Value Counts of Symptoms for {target}')\n",
    "    plt.ylabel('')\n",
    "    plt.xticks([])\n",
    "    plt.xlabel('')\n",
    "    plt.yticks(rotation=0)\n",
    "    sns.despine(left=True, bottom=True)\n",
    "    plt.tick_params(axis='y', which='both', left=False, right=False)\n",
    "    \n",
    "    plt.show()"
   ]
  },
  {
   "cell_type": "code",
   "execution_count": 19,
   "id": "45737137",
   "metadata": {
    "scrolled": false
   },
   "outputs": [
    {
     "data": {
      "image/png": "[encoded data removed]",
      "text/plain": [
       "<Figure size 640x480 with 1 Axes>"
      ]
     },
     "metadata": {},
     "output_type": "display_data"
    }
   ],
   "source": [
    "symptom_dist(df, 'Fungal infection')"
   ]
  },
  {
   "cell_type": "code",
   "execution_count": 20,
   "id": "fe9a43b9",
   "metadata": {
    "scrolled": false
   },
   "outputs": [
    {
     "data": {
      "image/png": "[encoded data removed]",
      "text/plain": [
       "<Figure size 640x480 with 1 Axes>"
      ]
     },
     "metadata": {},
     "output_type": "display_data"
    }
   ],
   "source": [
    "symptom_dist1(df, 'Chicken pox')"
   ]
  },
  {
   "cell_type": "code",
   "execution_count": 21,
   "id": "a3432c9b",
   "metadata": {},
   "outputs": [
    {
     "data": {
      "text/html": [
       "<div>\n",
       "<style scoped>\n",
       "    .dataframe tbody tr th:only-of-type {\n",
       "        vertical-align: middle;\n",
       "    }\n",
       "\n",
       "    .dataframe tbody tr th {\n",
       "        vertical-align: top;\n",
       "    }\n",
       "\n",
       "    .dataframe thead th {\n",
       "        text-align: right;\n",
       "    }\n",
       "</style>\n",
       "<table border=\"1\" class=\"dataframe\">\n",
       "  <thead>\n",
       "    <tr style=\"text-align: right;\">\n",
       "      <th></th>\n",
       "      <th>disease</th>\n",
       "      <th>symptom_1</th>\n",
       "      <th>symptom_2</th>\n",
       "      <th>symptom_3</th>\n",
       "      <th>symptom_4</th>\n",
       "      <th>symptom_5</th>\n",
       "      <th>symptom_6</th>\n",
       "      <th>symptom_7</th>\n",
       "      <th>symptom_8</th>\n",
       "      <th>symptom_9</th>\n",
       "      <th>symptom_10</th>\n",
       "      <th>symptom_11</th>\n",
       "      <th>symptom_12</th>\n",
       "      <th>symptom_13</th>\n",
       "      <th>symptom_14</th>\n",
       "      <th>symptom_15</th>\n",
       "      <th>symptom_16</th>\n",
       "      <th>symptom_17</th>\n",
       "    </tr>\n",
       "  </thead>\n",
       "  <tbody>\n",
       "    <tr>\n",
       "      <th>0</th>\n",
       "      <td>Fungal infection</td>\n",
       "      <td>itching</td>\n",
       "      <td>skin_rash</td>\n",
       "      <td>nodal_skin_eruptions</td>\n",
       "      <td>dischromic _patches</td>\n",
       "      <td>NaN</td>\n",
       "      <td>NaN</td>\n",
       "      <td>NaN</td>\n",
       "      <td>NaN</td>\n",
       "      <td>NaN</td>\n",
       "      <td>NaN</td>\n",
       "      <td>NaN</td>\n",
       "      <td>NaN</td>\n",
       "      <td>NaN</td>\n",
       "      <td>NaN</td>\n",
       "      <td>NaN</td>\n",
       "      <td>NaN</td>\n",
       "      <td>NaN</td>\n",
       "    </tr>\n",
       "    <tr>\n",
       "      <th>1</th>\n",
       "      <td>Fungal infection</td>\n",
       "      <td>skin_rash</td>\n",
       "      <td>nodal_skin_eruptions</td>\n",
       "      <td>dischromic _patches</td>\n",
       "      <td>NaN</td>\n",
       "      <td>NaN</td>\n",
       "      <td>NaN</td>\n",
       "      <td>NaN</td>\n",
       "      <td>NaN</td>\n",
       "      <td>NaN</td>\n",
       "      <td>NaN</td>\n",
       "      <td>NaN</td>\n",
       "      <td>NaN</td>\n",
       "      <td>NaN</td>\n",
       "      <td>NaN</td>\n",
       "      <td>NaN</td>\n",
       "      <td>NaN</td>\n",
       "      <td>NaN</td>\n",
       "    </tr>\n",
       "    <tr>\n",
       "      <th>2</th>\n",
       "      <td>Fungal infection</td>\n",
       "      <td>itching</td>\n",
       "      <td>nodal_skin_eruptions</td>\n",
       "      <td>dischromic _patches</td>\n",
       "      <td>NaN</td>\n",
       "      <td>NaN</td>\n",
       "      <td>NaN</td>\n",
       "      <td>NaN</td>\n",
       "      <td>NaN</td>\n",
       "      <td>NaN</td>\n",
       "      <td>NaN</td>\n",
       "      <td>NaN</td>\n",
       "      <td>NaN</td>\n",
       "      <td>NaN</td>\n",
       "      <td>NaN</td>\n",
       "      <td>NaN</td>\n",
       "      <td>NaN</td>\n",
       "      <td>NaN</td>\n",
       "    </tr>\n",
       "    <tr>\n",
       "      <th>3</th>\n",
       "      <td>Fungal infection</td>\n",
       "      <td>itching</td>\n",
       "      <td>skin_rash</td>\n",
       "      <td>dischromic _patches</td>\n",
       "      <td>NaN</td>\n",
       "      <td>NaN</td>\n",
       "      <td>NaN</td>\n",
       "      <td>NaN</td>\n",
       "      <td>NaN</td>\n",
       "      <td>NaN</td>\n",
       "      <td>NaN</td>\n",
       "      <td>NaN</td>\n",
       "      <td>NaN</td>\n",
       "      <td>NaN</td>\n",
       "      <td>NaN</td>\n",
       "      <td>NaN</td>\n",
       "      <td>NaN</td>\n",
       "      <td>NaN</td>\n",
       "    </tr>\n",
       "    <tr>\n",
       "      <th>4</th>\n",
       "      <td>Fungal infection</td>\n",
       "      <td>itching</td>\n",
       "      <td>skin_rash</td>\n",
       "      <td>nodal_skin_eruptions</td>\n",
       "      <td>NaN</td>\n",
       "      <td>NaN</td>\n",
       "      <td>NaN</td>\n",
       "      <td>NaN</td>\n",
       "      <td>NaN</td>\n",
       "      <td>NaN</td>\n",
       "      <td>NaN</td>\n",
       "      <td>NaN</td>\n",
       "      <td>NaN</td>\n",
       "      <td>NaN</td>\n",
       "      <td>NaN</td>\n",
       "      <td>NaN</td>\n",
       "      <td>NaN</td>\n",
       "      <td>NaN</td>\n",
       "    </tr>\n",
       "  </tbody>\n",
       "</table>\n",
       "</div>"
      ],
      "text/plain": [
       "            disease   symptom_1              symptom_2              symptom_3  \\\n",
       "0  Fungal infection     itching              skin_rash   nodal_skin_eruptions   \n",
       "1  Fungal infection   skin_rash   nodal_skin_eruptions    dischromic _patches   \n",
       "2  Fungal infection     itching   nodal_skin_eruptions    dischromic _patches   \n",
       "3  Fungal infection     itching              skin_rash    dischromic _patches   \n",
       "4  Fungal infection     itching              skin_rash   nodal_skin_eruptions   \n",
       "\n",
       "              symptom_4 symptom_5 symptom_6 symptom_7 symptom_8 symptom_9  \\\n",
       "0   dischromic _patches       NaN       NaN       NaN       NaN       NaN   \n",
       "1                   NaN       NaN       NaN       NaN       NaN       NaN   \n",
       "2                   NaN       NaN       NaN       NaN       NaN       NaN   \n",
       "3                   NaN       NaN       NaN       NaN       NaN       NaN   \n",
       "4                   NaN       NaN       NaN       NaN       NaN       NaN   \n",
       "\n",
       "  symptom_10 symptom_11 symptom_12 symptom_13 symptom_14 symptom_15  \\\n",
       "0        NaN        NaN        NaN        NaN        NaN        NaN   \n",
       "1        NaN        NaN        NaN        NaN        NaN        NaN   \n",
       "2        NaN        NaN        NaN        NaN        NaN        NaN   \n",
       "3        NaN        NaN        NaN        NaN        NaN        NaN   \n",
       "4        NaN        NaN        NaN        NaN        NaN        NaN   \n",
       "\n",
       "  symptom_16 symptom_17  \n",
       "0        NaN        NaN  \n",
       "1        NaN        NaN  \n",
       "2        NaN        NaN  \n",
       "3        NaN        NaN  \n",
       "4        NaN        NaN  "
      ]
     },
     "execution_count": 21,
     "metadata": {},
     "output_type": "execute_result"
    }
   ],
   "source": [
    "df.head()"
   ]
  },
  {
   "cell_type": "code",
   "execution_count": 42,
   "id": "a758f101",
   "metadata": {},
   "outputs": [
    {
     "data": {
      "text/html": [
       "<div>\n",
       "<style scoped>\n",
       "    .dataframe tbody tr th:only-of-type {\n",
       "        vertical-align: middle;\n",
       "    }\n",
       "\n",
       "    .dataframe tbody tr th {\n",
       "        vertical-align: top;\n",
       "    }\n",
       "\n",
       "    .dataframe thead th {\n",
       "        text-align: right;\n",
       "    }\n",
       "</style>\n",
       "<table border=\"1\" class=\"dataframe\">\n",
       "  <thead>\n",
       "    <tr style=\"text-align: right;\">\n",
       "      <th></th>\n",
       "      <th>AIDS</th>\n",
       "      <th>Heart Attack</th>\n",
       "    </tr>\n",
       "  </thead>\n",
       "  <tbody>\n",
       "    <tr>\n",
       "      <th>breathlessness</th>\n",
       "      <td>0</td>\n",
       "      <td>108</td>\n",
       "    </tr>\n",
       "    <tr>\n",
       "      <th>chest_pain</th>\n",
       "      <td>0</td>\n",
       "      <td>114</td>\n",
       "    </tr>\n",
       "    <tr>\n",
       "      <th>extra_marital_contacts</th>\n",
       "      <td>108</td>\n",
       "      <td>0</td>\n",
       "    </tr>\n",
       "    <tr>\n",
       "      <th>high_fever</th>\n",
       "      <td>114</td>\n",
       "      <td>0</td>\n",
       "    </tr>\n",
       "    <tr>\n",
       "      <th>muscle_wasting</th>\n",
       "      <td>108</td>\n",
       "      <td>0</td>\n",
       "    </tr>\n",
       "    <tr>\n",
       "      <th>patches_in_throat</th>\n",
       "      <td>108</td>\n",
       "      <td>0</td>\n",
       "    </tr>\n",
       "    <tr>\n",
       "      <th>sweating</th>\n",
       "      <td>0</td>\n",
       "      <td>108</td>\n",
       "    </tr>\n",
       "    <tr>\n",
       "      <th>vomiting</th>\n",
       "      <td>0</td>\n",
       "      <td>108</td>\n",
       "    </tr>\n",
       "  </tbody>\n",
       "</table>\n",
       "</div>"
      ],
      "text/plain": [
       "                         AIDS  Heart Attack\n",
       " breathlessness             0           108\n",
       " chest_pain                 0           114\n",
       " extra_marital_contacts   108             0\n",
       " high_fever               114             0\n",
       " muscle_wasting           108             0\n",
       " patches_in_throat        108             0\n",
       " sweating                   0           108\n",
       " vomiting                   0           108"
      ]
     },
     "execution_count": 42,
     "metadata": {},
     "output_type": "execute_result"
    }
   ],
   "source": [
    "sym_counts = (pd.concat([aids, heart], axis=1, sort=True)\n",
    "                .set_axis(['AIDS', 'Heart Attack'], axis=1)\n",
    "                .fillna(0)\n",
    "                .apply(lambda s: s.astype(int)))\n",
    "\n",
    "sym_counts\n"
   ]
  },
  {
   "cell_type": "code",
   "execution_count": null,
   "id": "c78d7c26",
   "metadata": {},
   "outputs": [],
   "source": []
  }
 ],
 "metadata": {
  "kernelspec": {
   "display_name": "Python 3 (ipykernel)",
   "language": "python",
   "name": "python3"
  },
  "language_info": {
   "codemirror_mode": {
    "name": "ipython",
    "version": 3
   },
   "file_extension": ".py",
   "mimetype": "text/x-python",
   "name": "python",
   "nbconvert_exporter": "python",
   "pygments_lexer": "ipython3",
   "version": "3.11.3"
  }
 },
 "nbformat": 4,
 "nbformat_minor": 5
}
