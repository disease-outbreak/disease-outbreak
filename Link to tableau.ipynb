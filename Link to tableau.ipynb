{
 "cells": [
  {
   "cell_type": "markdown",
   "id": "60c0c497-20e7-4ebd-93ea-73999ca97910",
   "metadata": {},
   "source": [
    "# Tableau visualization link\n",
    "\n",
    "Our data science team, is thrilled to present our Tableau Visualization on disease mortality trends over the past four years. This project uncovers critical insights into listed disease mortality and its impact on our community. \n",
    "- septicemia[ Pneumonia, TB, Hepaticis, Dengue, Typhoid]\n",
    "- Diabetics Mellitus [ Hypertension, chronic kidney disease, gastroenteritis, Arthritis]\n",
    "- Influenza and Pnewmonia [ Common cold, Pneumonia]\n",
    "- Chronic Lower Respiratory disease [ Bronchial asthma]\n",
    "- Nephritis, Nephrotic Syndrome and Nephrosis (Kidney Diseases) [Hypertension]\n",
    "- Cerebrovascular Diseases [(Stroke)Paralysis(brain hemorrhage)].\n",
    "\n"
   ]
  },
  {
   "cell_type": "markdown",
   "id": "1587e906-aa54-4227-9d69-5e3e5aa009fd",
   "metadata": {
    "scrolled": true
   },
   "source": [
    "https://public.tableau.com/app/profile/nisha.bista/viz/DiseaseMortality/Dashboard12?publish=yes"
   ]
  },
  {
   "cell_type": "code",
   "execution_count": null,
   "id": "716513c6-e6b6-4c33-8dd6-ef9456dac662",
   "metadata": {},
   "outputs": [],
   "source": []
  }
 ],
 "metadata": {
  "kernelspec": {
   "display_name": "Python 3 (ipykernel)",
   "language": "python",
   "name": "python3"
  },
  "language_info": {
   "codemirror_mode": {
    "name": "ipython",
    "version": 3
   },
   "file_extension": ".py",
   "mimetype": "text/x-python",
   "name": "python",
   "nbconvert_exporter": "python",
   "pygments_lexer": "ipython3",
   "version": "3.11.3"
  }
 },
 "nbformat": 4,
 "nbformat_minor": 5
}
