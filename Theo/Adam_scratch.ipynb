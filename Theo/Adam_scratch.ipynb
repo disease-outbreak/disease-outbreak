{
 "cells": [
  {
   "cell_type": "code",
   "execution_count": 3,
   "id": "3a5669ed",
   "metadata": {},
   "outputs": [],
   "source": [
    "\n",
    "import pandas as pd\n",
    "import numpy as np\n",
    "import joblib\n"
   ]
  },
  {
   "cell_type": "code",
   "execution_count": 4,
   "id": "ed212f58",
   "metadata": {},
   "outputs": [],
   "source": [
    "\n",
    "# Load your trained K-Nearest Neighbors model\n",
    "loaded_model = joblib.load('rf_model.sav')"
   ]
  },
  {
   "cell_type": "code",
   "execution_count": 5,
   "id": "888db47d",
   "metadata": {},
   "outputs": [
    {
     "data": {
      "text/plain": [
       "array([11, 11, 11, 11, 11, 11, 11, 11, 11, 11, 11, 11, 11, 11, 11, 11, 11,\n",
       "       11, 11, 11, 11, 11, 11, 11, 38, 38, 25, 35, 21,  3,  2, 10, 32, 34,\n",
       "       35, 24,  9, 30, 22,  5, 22, 35, 15,  6, 31, 34,  7, 27])"
      ]
     },
     "execution_count": 5,
     "metadata": {},
     "output_type": "execute_result"
    }
   ],
   "source": [
    "loaded_model"
   ]
  },
  {
   "cell_type": "code",
   "execution_count": null,
   "id": "0a293bb0",
   "metadata": {},
   "outputs": [],
   "source": []
  }
 ],
 "metadata": {
  "kernelspec": {
   "display_name": "Python 3 (ipykernel)",
   "language": "python",
   "name": "python3"
  },
  "language_info": {
   "codemirror_mode": {
    "name": "ipython",
    "version": 3
   },
   "file_extension": ".py",
   "mimetype": "text/x-python",
   "name": "python",
   "nbconvert_exporter": "python",
   "pygments_lexer": "ipython3",
   "version": "3.10.9"
  }
 },
 "nbformat": 4,
 "nbformat_minor": 5
}
