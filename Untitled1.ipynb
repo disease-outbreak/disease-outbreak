{
 "cells": [
  {
   "cell_type": "code",
   "execution_count": null,
   "id": "be06193e-e1e6-4dfc-9c8e-d5d12d27ae63",
   "metadata": {},
   "outputs": [],
   "source": []
  },
  {
   "cell_type": "code",
   "execution_count": null,
   "id": "5499e1d8-67cb-4d07-8011-578b7b819c9e",
   "metadata": {},
   "outputs": [],
   "source": []
  },
  {
   "cell_type": "code",
   "execution_count": null,
   "id": "4f6ca37d-f6a7-41cd-a1f2-1d67428832c5",
   "metadata": {},
   "outputs": [],
   "source": []
  },
  {
   "cell_type": "code",
   "execution_count": 1,
   "id": "a0c3fffb-0991-46a9-b2c0-611e837385fd",
   "metadata": {},
   "outputs": [],
   "source": [
    "symptoms_df_final = [\n",
    "    'abdominal_pain', 'abnormal_menstruation', 'acidity', 'acute_liver_failure',\n",
    "    # ... other symptoms ...\n",
    "    'yellow_urine', 'yellowing_of_eyes', 'yellowish_skin', 'disease'\n",
    "]\n",
    "\n",
    "symptoms_df1 = [\n",
    "    'abdominal_pain', 'abnormal_menstruation', 'acidity', 'acute_liver_failure',\n",
    "    # ... other symptoms ...\n",
    "    'yellow_urine', 'yellowing_of_eyes', 'yellowish_skin', 'prognosis', 'fluid_overload', 'foul_smell_ofurine'\n",
    "]\n"
   ]
  },
  {
   "cell_type": "code",
   "execution_count": 4,
   "id": "b3b55843-c420-4a87-9f8a-570e5169e4d9",
   "metadata": {},
   "outputs": [
    {
     "name": "stdout",
     "output_type": "stream",
     "text": [
      "Symptoms present in df_final but not in df1: {'disease'}\n",
      "Symptoms present in df1 but not in df_final: {'prognosis', 'foul_smell_ofurine', 'fluid_overload'}\n"
     ]
    }
   ],
   "source": [
    "# Convert the lists to sets\n",
    "set_symptoms_df_final = set(symptoms_df_final)\n",
    "set_symptoms_df1 = set(symptoms_df1)\n",
    "\n",
    "# Find symptoms present in df_final but not in df1\n",
    "missing_in_df1 = set_symptoms_df_final - set_symptoms_df1\n",
    "if missing_in_df1:\n",
    "    print(\"Symptoms present in df_final but not in df1:\", missing_in_df1)\n",
    "\n",
    "# Find symptoms present in df1 but not in df_final\n",
    "missing_in_df_final = set_symptoms_df1 - set_symptoms_df_final\n",
    "if missing_in_df_final:\n",
    "    print(\"Symptoms present in df1 but not in df_final:\", missing_in_df_final)\n"
   ]
  },
  {
   "cell_type": "code",
   "execution_count": 5,
   "id": "7935d9f7-07ad-4388-a154-d8326b152fef",
   "metadata": {},
   "outputs": [
    {
     "data": {
      "text/plain": [
       "{'abdominal_pain',\n",
       " 'abnormal_menstruation',\n",
       " 'acidity',\n",
       " 'acute_liver_failure',\n",
       " 'disease',\n",
       " 'yellow_urine',\n",
       " 'yellowing_of_eyes',\n",
       " 'yellowish_skin'}"
      ]
     },
     "execution_count": 5,
     "metadata": {},
     "output_type": "execute_result"
    }
   ],
   "source": [
    "set_symptoms_df_final"
   ]
  },
  {
   "cell_type": "code",
   "execution_count": 2,
   "id": "3561a4c4-ea41-4b8b-b8b2-505e8fc30968",
   "metadata": {},
   "outputs": [
    {
     "data": {
      "text/plain": [
       "['abdominal_pain',\n",
       " 'abnormal_menstruation',\n",
       " 'acidity',\n",
       " 'acute_liver_failure',\n",
       " 'yellow_urine',\n",
       " 'yellowing_of_eyes',\n",
       " 'yellowish_skin',\n",
       " 'disease']"
      ]
     },
     "execution_count": 2,
     "metadata": {},
     "output_type": "execute_result"
    }
   ],
   "source": [
    "symptoms_df_final"
   ]
  },
  {
   "cell_type": "code",
   "execution_count": null,
   "id": "b5890013-6547-4ccc-b8ee-24ec192d98e9",
   "metadata": {},
   "outputs": [],
   "source": []
  },
  {
   "cell_type": "code",
   "execution_count": null,
   "id": "09320615-556d-494b-8a42-9e29829ade4a",
   "metadata": {},
   "outputs": [],
   "source": []
  }
 ],
 "metadata": {
  "kernelspec": {
   "display_name": "Python 3 (ipykernel)",
   "language": "python",
   "name": "python3"
  },
  "language_info": {
   "codemirror_mode": {
    "name": "ipython",
    "version": 3
   },
   "file_extension": ".py",
   "mimetype": "text/x-python",
   "name": "python",
   "nbconvert_exporter": "python",
   "pygments_lexer": "ipython3",
   "version": "3.10.12"
  }
 },
 "nbformat": 4,
 "nbformat_minor": 5
}
